{
 "cells": [
  {
   "cell_type": "markdown",
   "metadata": {},
   "source": [
    "## Procedure\n",
    "This kernel uses multiple classification algorithms as below\n",
    "<ul>\n",
    "    <li>Multi-layer Perceptron classifier (MLP)</li>\n",
    "    <li>KNeighborsClassifier</li>\n",
    "    <li>AdaBoostClassifier</li>\n",
    "    <li>BaggingClassifier</li>\n",
    "    <li>GradientBoostingClassifier</li>\n",
    "    <li>RandomForestClassifier</li>\n",
    "</ul>\n",
    "    \n",
    "Also this kernel does lot of indepth EDA like \n",
    "<ul>\n",
    "    <li>univalirate analysis</li>\n",
    "    <li>bivariate analysis</li>\n",
    "    <li>correlation analysis</li>\n",
    "</ul>\n",
    "\n",
    "This kernel utilize the below methods for evaluation of model accuracy\n",
    "<ul>\n",
    "    <li>auc</li>\n",
    "    <li>classification report</li>\n",
    "    <li>confusion matrix</li>\n",
    "</ul>"
   ]
  },
  {
   "cell_type": "markdown",
   "metadata": {},
   "source": [
    "## General Library Imports"
   ]
  },
  {
   "cell_type": "code",
   "execution_count": 19,
   "metadata": {},
   "outputs": [
    {
     "name": "stdout",
     "output_type": "stream",
     "text": [
      "Requirement already satisfied: matplotlib in c:\\users\\saray\\appdata\\roaming\\python\\python311\\site-packages (3.8.2)\n",
      "Requirement already satisfied: contourpy>=1.0.1 in c:\\users\\saray\\anaconda3\\lib\\site-packages (from matplotlib) (1.2.0)\n",
      "Requirement already satisfied: cycler>=0.10 in c:\\users\\saray\\anaconda3\\lib\\site-packages (from matplotlib) (0.11.0)\n",
      "Requirement already satisfied: fonttools>=4.22.0 in c:\\users\\saray\\anaconda3\\lib\\site-packages (from matplotlib) (4.25.0)\n",
      "Requirement already satisfied: kiwisolver>=1.3.1 in c:\\users\\saray\\anaconda3\\lib\\site-packages (from matplotlib) (1.4.4)\n",
      "Requirement already satisfied: numpy<2,>=1.21 in c:\\users\\saray\\anaconda3\\lib\\site-packages (from matplotlib) (1.26.2)\n",
      "Requirement already satisfied: packaging>=20.0 in c:\\users\\saray\\anaconda3\\lib\\site-packages (from matplotlib) (23.1)\n",
      "Requirement already satisfied: pillow>=8 in c:\\users\\saray\\anaconda3\\lib\\site-packages (from matplotlib) (10.0.1)\n",
      "Requirement already satisfied: pyparsing>=2.3.1 in c:\\users\\saray\\anaconda3\\lib\\site-packages (from matplotlib) (3.0.9)\n",
      "Requirement already satisfied: python-dateutil>=2.7 in c:\\users\\saray\\anaconda3\\lib\\site-packages (from matplotlib) (2.8.2)\n",
      "Requirement already satisfied: six>=1.5 in c:\\users\\saray\\anaconda3\\lib\\site-packages (from python-dateutil>=2.7->matplotlib) (1.16.0)\n"
     ]
    }
   ],
   "source": [
    "!pip install matplotlib"
   ]
  },
  {
   "cell_type": "code",
   "execution_count": 24,
   "metadata": {
    "execution": {
     "iopub.execute_input": "2022-09-27T06:57:47.169379Z",
     "iopub.status.busy": "2022-09-27T06:57:47.168902Z",
     "iopub.status.idle": "2022-09-27T06:57:48.829537Z",
     "shell.execute_reply": "2022-09-27T06:57:48.82851Z",
     "shell.execute_reply.started": "2022-09-27T06:57:47.169286Z"
    }
   },
   "outputs": [],
   "source": [
    "import warnings\n",
    "warnings.filterwarnings(\"ignore\")\n",
    "\n",
    "import pandas as pd\n",
    "# import numpy as np\n",
    "# import matplotlib.pyplot as plt\n",
    "# import seaborn as sns\n",
    "\n",
    "# from sklearn.model_selection import train_test_split\n",
    "# from sklearn.preprocessing import StandardScaler, OneHotEncoder, LabelEncoder\n",
    "# from sklearn.compose import ColumnTransformer\n",
    "# from sklearn.decomposition import TruncatedSVD\n",
    "# from sklearn.impute import SimpleImputer\n",
    "# from sklearn.pipeline import Pipeline\n",
    "\n",
    "\n",
    "# # libraries for models\n",
    "# from sklearn.neural_network import MLPClassifier\n",
    "# from sklearn.neighbors import KNeighborsClassifier\n",
    "# from sklearn.ensemble import AdaBoostClassifier, BaggingClassifier, GradientBoostingClassifier, RandomForestClassifier\n",
    "\n",
    "# # metrics evaluation libraries\n",
    "# from sklearn.metrics import auc, classification_report, confusion_matrix, roc_curve, RocCurveDisplay"
   ]
  },
  {
   "cell_type": "markdown",
   "metadata": {},
   "source": [
    "## Data loading"
   ]
  },
  {
   "cell_type": "code",
   "execution_count": null,
   "metadata": {
    "execution": {
     "iopub.execute_input": "2022-09-27T06:57:48.832299Z",
     "iopub.status.busy": "2022-09-27T06:57:48.831394Z",
     "iopub.status.idle": "2022-09-27T06:57:48.865921Z",
     "shell.execute_reply": "2022-09-27T06:57:48.864976Z",
     "shell.execute_reply.started": "2022-09-27T06:57:48.832264Z"
    }
   },
   "outputs": [],
   "source": [
    "project_data = pd.read_csv(\"../dataset/Employee Analysis Attrition Report/HR Employee Attrition.csv\")"
   ]
  },
  {
   "cell_type": "markdown",
   "metadata": {},
   "source": [
    "## Initial Analysis"
   ]
  },
  {
   "cell_type": "code",
   "execution_count": null,
   "metadata": {
    "execution": {
     "iopub.execute_input": "2022-09-27T06:57:48.868105Z",
     "iopub.status.busy": "2022-09-27T06:57:48.867441Z",
     "iopub.status.idle": "2022-09-27T06:57:48.906369Z",
     "shell.execute_reply": "2022-09-27T06:57:48.905246Z",
     "shell.execute_reply.started": "2022-09-27T06:57:48.868071Z"
    }
   },
   "outputs": [],
   "source": [
    "project_data.head()"
   ]
  },
  {
   "cell_type": "code",
   "execution_count": null,
   "metadata": {
    "execution": {
     "iopub.execute_input": "2022-09-27T06:57:48.908961Z",
     "iopub.status.busy": "2022-09-27T06:57:48.908579Z",
     "iopub.status.idle": "2022-09-27T06:57:48.941765Z",
     "shell.execute_reply": "2022-09-27T06:57:48.940508Z",
     "shell.execute_reply.started": "2022-09-27T06:57:48.908912Z"
    }
   },
   "outputs": [],
   "source": [
    "project_data.info()"
   ]
  },
  {
   "cell_type": "code",
   "execution_count": null,
   "metadata": {
    "execution": {
     "iopub.execute_input": "2022-09-27T06:57:48.944262Z",
     "iopub.status.busy": "2022-09-27T06:57:48.943773Z",
     "iopub.status.idle": "2022-09-27T06:57:49.034199Z",
     "shell.execute_reply": "2022-09-27T06:57:49.032959Z",
     "shell.execute_reply.started": "2022-09-27T06:57:48.944209Z"
    }
   },
   "outputs": [],
   "source": [
    "project_data.describe()"
   ]
  },
  {
   "cell_type": "code",
   "execution_count": null,
   "metadata": {
    "execution": {
     "iopub.execute_input": "2022-09-27T06:57:49.036709Z",
     "iopub.status.busy": "2022-09-27T06:57:49.035629Z",
     "iopub.status.idle": "2022-09-27T06:57:49.04473Z",
     "shell.execute_reply": "2022-09-27T06:57:49.04316Z",
     "shell.execute_reply.started": "2022-09-27T06:57:49.036663Z"
    }
   },
   "outputs": [],
   "source": [
    "project_data.shape"
   ]
  },
  {
   "cell_type": "code",
   "execution_count": null,
   "metadata": {
    "execution": {
     "iopub.execute_input": "2022-09-27T06:57:49.047369Z",
     "iopub.status.busy": "2022-09-27T06:57:49.046572Z",
     "iopub.status.idle": "2022-09-27T06:57:49.055755Z",
     "shell.execute_reply": "2022-09-27T06:57:49.054946Z",
     "shell.execute_reply.started": "2022-09-27T06:57:49.047325Z"
    }
   },
   "outputs": [],
   "source": [
    "project_data.columns"
   ]
  },
  {
   "cell_type": "code",
   "execution_count": null,
   "metadata": {
    "execution": {
     "iopub.execute_input": "2022-09-27T06:57:49.058663Z",
     "iopub.status.busy": "2022-09-27T06:57:49.057421Z",
     "iopub.status.idle": "2022-09-27T06:57:49.072729Z",
     "shell.execute_reply": "2022-09-27T06:57:49.071347Z",
     "shell.execute_reply.started": "2022-09-27T06:57:49.058621Z"
    }
   },
   "outputs": [],
   "source": [
    "project_data.isna().sum()"
   ]
  },
  {
   "cell_type": "markdown",
   "metadata": {},
   "source": [
    "## Eploratory Data Analysis"
   ]
  },
  {
   "cell_type": "markdown",
   "metadata": {},
   "source": [
    "### uivariate Analysis"
   ]
  },
  {
   "cell_type": "code",
   "execution_count": null,
   "metadata": {
    "execution": {
     "iopub.execute_input": "2022-09-27T06:57:49.075004Z",
     "iopub.status.busy": "2022-09-27T06:57:49.074529Z",
     "iopub.status.idle": "2022-09-27T06:57:49.083324Z",
     "shell.execute_reply": "2022-09-27T06:57:49.081989Z",
     "shell.execute_reply.started": "2022-09-27T06:57:49.074961Z"
    }
   },
   "outputs": [],
   "source": [
    "numeric_columns = [column for column in project_data.columns if project_data[column].dtype == 'int64']\n",
    "print(numeric_columns)"
   ]
  },
  {
   "cell_type": "code",
   "execution_count": null,
   "metadata": {
    "execution": {
     "iopub.execute_input": "2022-09-27T06:57:49.087649Z",
     "iopub.status.busy": "2022-09-27T06:57:49.087324Z",
     "iopub.status.idle": "2022-09-27T06:57:55.559235Z",
     "shell.execute_reply": "2022-09-27T06:57:55.558089Z",
     "shell.execute_reply.started": "2022-09-27T06:57:49.087619Z"
    },
    "scrolled": true
   },
   "outputs": [],
   "source": [
    "for column in numeric_columns:\n",
    "    plt.figure(figsize=(12,8))\n",
    "    sns.kdeplot(data=project_data, x=column, palette=\"crest\")\n",
    "    plt.show()"
   ]
  },
  {
   "cell_type": "code",
   "execution_count": null,
   "metadata": {
    "execution": {
     "iopub.execute_input": "2022-09-27T06:57:55.561268Z",
     "iopub.status.busy": "2022-09-27T06:57:55.560941Z",
     "iopub.status.idle": "2022-09-27T06:57:55.56766Z",
     "shell.execute_reply": "2022-09-27T06:57:55.566232Z",
     "shell.execute_reply.started": "2022-09-27T06:57:55.561239Z"
    }
   },
   "outputs": [],
   "source": [
    "categorical_columns = [column for column in project_data.columns if project_data[column].dtype != 'int64']\n",
    "print(categorical_columns)"
   ]
  },
  {
   "cell_type": "code",
   "execution_count": null,
   "metadata": {
    "execution": {
     "iopub.execute_input": "2022-09-27T06:57:55.569772Z",
     "iopub.status.busy": "2022-09-27T06:57:55.568936Z",
     "iopub.status.idle": "2022-09-27T06:57:57.315075Z",
     "shell.execute_reply": "2022-09-27T06:57:57.31406Z",
     "shell.execute_reply.started": "2022-09-27T06:57:55.56974Z"
    },
    "scrolled": true
   },
   "outputs": [],
   "source": [
    "for column in categorical_columns:\n",
    "    plt.figure(figsize=(12,8))\n",
    "    sns.countplot(x=project_data[column])\n",
    "    plt.show()"
   ]
  },
  {
   "cell_type": "markdown",
   "metadata": {},
   "source": [
    "### Bivariate Analysis"
   ]
  },
  {
   "cell_type": "code",
   "execution_count": null,
   "metadata": {
    "execution": {
     "iopub.execute_input": "2022-09-27T06:57:57.318063Z",
     "iopub.status.busy": "2022-09-27T06:57:57.317148Z",
     "iopub.status.idle": "2022-09-27T06:58:03.748052Z",
     "shell.execute_reply": "2022-09-27T06:58:03.746817Z",
     "shell.execute_reply.started": "2022-09-27T06:57:57.318016Z"
    },
    "scrolled": true
   },
   "outputs": [],
   "source": [
    "for column in numeric_columns:\n",
    "    plt.figure(figsize=(12,8))\n",
    "    sns.kdeplot(data=project_data, x=column, hue=\"Attrition\", fill=True, alpha=.5, palette=\"crest\")\n",
    "    plt.show()"
   ]
  },
  {
   "cell_type": "markdown",
   "metadata": {},
   "source": [
    "## Correlation Analysis"
   ]
  },
  {
   "cell_type": "code",
   "execution_count": null,
   "metadata": {
    "execution": {
     "iopub.execute_input": "2022-09-27T06:58:03.749814Z",
     "iopub.status.busy": "2022-09-27T06:58:03.749475Z",
     "iopub.status.idle": "2022-09-27T06:58:09.304673Z",
     "shell.execute_reply": "2022-09-27T06:58:09.303461Z",
     "shell.execute_reply.started": "2022-09-27T06:58:03.749784Z"
    }
   },
   "outputs": [],
   "source": [
    "df1 = project_data.copy()\n",
    "\n",
    "encoder = LabelEncoder()\n",
    "for column in categorical_columns:\n",
    "    df1[column] = encoder.fit_transform(df1[column])\n",
    "\n",
    "plt.figure(figsize=(30,12))\n",
    "corr = df1.corr()\n",
    "sns.heatmap(corr, annot=True, cmap=\"YlGnBu\")"
   ]
  },
  {
   "cell_type": "markdown",
   "metadata": {},
   "source": [
    "## Data Preprocessing and Pipelining"
   ]
  },
  {
   "cell_type": "code",
   "execution_count": null,
   "metadata": {
    "execution": {
     "iopub.execute_input": "2022-09-27T06:58:09.306715Z",
     "iopub.status.busy": "2022-09-27T06:58:09.3058Z",
     "iopub.status.idle": "2022-09-27T06:58:09.317023Z",
     "shell.execute_reply": "2022-09-27T06:58:09.315641Z",
     "shell.execute_reply.started": "2022-09-27T06:58:09.306677Z"
    }
   },
   "outputs": [],
   "source": [
    "X_train=project_data.drop(columns=[\"Attrition\"])\n",
    "y_train=project_data[\"Attrition\"]\n",
    "\n",
    "X_train, X_test, y_train, y_test = train_test_split(X_train, y_train, test_size=0.3)"
   ]
  },
  {
   "cell_type": "code",
   "execution_count": null,
   "metadata": {
    "execution": {
     "iopub.execute_input": "2022-09-27T06:58:09.319651Z",
     "iopub.status.busy": "2022-09-27T06:58:09.318553Z",
     "iopub.status.idle": "2022-09-27T06:58:09.333063Z",
     "shell.execute_reply": "2022-09-27T06:58:09.331967Z",
     "shell.execute_reply.started": "2022-09-27T06:58:09.319586Z"
    }
   },
   "outputs": [],
   "source": [
    "print('Train dataset shape:',X_train.shape)\n",
    "print('Test dataset shape', y_train.shape)"
   ]
  },
  {
   "cell_type": "code",
   "execution_count": null,
   "metadata": {
    "execution": {
     "iopub.execute_input": "2022-09-27T06:58:09.334923Z",
     "iopub.status.busy": "2022-09-27T06:58:09.334316Z",
     "iopub.status.idle": "2022-09-27T06:58:09.348789Z",
     "shell.execute_reply": "2022-09-27T06:58:09.3476Z",
     "shell.execute_reply.started": "2022-09-27T06:58:09.334874Z"
    }
   },
   "outputs": [],
   "source": [
    "numeric_columns = X_train.select_dtypes(exclude='object').columns\n",
    "print(numeric_columns)\n",
    "print('*'*100)\n",
    "categorical_columns = X_train.select_dtypes(include='object').columns\n",
    "print(categorical_columns)"
   ]
  },
  {
   "cell_type": "code",
   "execution_count": null,
   "metadata": {
    "execution": {
     "iopub.execute_input": "2022-09-27T06:58:09.350801Z",
     "iopub.status.busy": "2022-09-27T06:58:09.350107Z",
     "iopub.status.idle": "2022-09-27T06:58:09.386906Z",
     "shell.execute_reply": "2022-09-27T06:58:09.385816Z",
     "shell.execute_reply.started": "2022-09-27T06:58:09.350757Z"
    }
   },
   "outputs": [],
   "source": [
    "numeric_features = Pipeline([\n",
    "    ('handlingmissingvalues',SimpleImputer(strategy='median')),\n",
    "    ('scaling',StandardScaler(with_mean=True))\n",
    "])\n",
    "\n",
    "print(numeric_features)\n",
    "print('*'*100)\n",
    "\n",
    "categorical_features = Pipeline([\n",
    "    ('handlingmissingvalues',SimpleImputer(strategy='most_frequent')),\n",
    "    ('encoding', OneHotEncoder()),\n",
    "    ('scaling', StandardScaler(with_mean=False))\n",
    "])\n",
    "\n",
    "print(categorical_features)\n",
    "\n",
    "processing = ColumnTransformer([\n",
    "    ('numeric', numeric_features, numeric_columns),\n",
    "    ('categorical', categorical_features, categorical_columns)\n",
    "])\n",
    "\n",
    "processing"
   ]
  },
  {
   "cell_type": "markdown",
   "metadata": {},
   "source": [
    "## Generic Methods for Model Preparation & Metric Evaliation"
   ]
  },
  {
   "cell_type": "code",
   "execution_count": null,
   "metadata": {
    "execution": {
     "iopub.execute_input": "2022-09-27T06:58:09.388836Z",
     "iopub.status.busy": "2022-09-27T06:58:09.388393Z",
     "iopub.status.idle": "2022-09-27T06:58:09.394836Z",
     "shell.execute_reply": "2022-09-27T06:58:09.393781Z",
     "shell.execute_reply.started": "2022-09-27T06:58:09.388804Z"
    }
   },
   "outputs": [],
   "source": [
    "def prepare_model(algorithm):\n",
    "    model = Pipeline(steps= [\n",
    "        ('processing',processing),\n",
    "        ('pca', TruncatedSVD(n_components=3, random_state=12)),\n",
    "        ('modeling', algorithm)\n",
    "    ])\n",
    "    model.fit(X_train, y_train)\n",
    "    \n",
    "    # Save\n",
    "    filename = 'model'+ algorithm +'.pkl'\n",
    "    print(filename)\n",
    "#     pickle.dump(model, open(filename, 'wb'))\n",
    "\n",
    "    return model"
   ]
  },
  {
   "cell_type": "code",
   "execution_count": null,
   "metadata": {},
   "outputs": [],
   "source": [
    "input_data = {\n",
    "    \"Age\": [40],\n",
    "    \"BusinessTravel\": ['Non-Travel'],\n",
    "    \"DailyRate\": [1142],\n",
    "    \"Department\": ['Research & Development'],\n",
    "    \"DistanceFromHome\": [8],\n",
    "    \"Education\": [2],\n",
    "    \"EducationField\": ['Life Sciences'],\n",
    "    \"EmployeeCount\": [1],\n",
    "    \"EmployeeNumber\": [1552],\n",
    "    \"EnvironmentSatisfaction\": [4],\n",
    "    \"Gender\": ['Male'],\n",
    "    \"HourlyRate\": [72],\n",
    "    \"JobInvolvement\": [3],\n",
    "    \"JobLevel\": [2],\n",
    "    \"JobRole\": ['Healthcare Representative'],\n",
    "    \"JobSatisfaction\": [4],\n",
    "    \"MaritalStatus\": ['Divorced'],\n",
    "    \"MonthlyIncome\": [4069],\n",
    "    \"MonthlyRate\": [8841],\n",
    "    \"NumCompaniesWorked\": [3],\n",
    "    \"Over18\": ['Y'],\n",
    "    \"OverTime\": ['Yes'],\n",
    "    \"PercentSalaryHike\": [18],\n",
    "    \"PerformanceRating\": [3],\n",
    "    \"RelationshipSatisfaction\": [3],\n",
    "    \"StandardHours\": [80],\n",
    "    \"StockOptionLevel\": [0],\n",
    "    \"TotalWorkingYears\": [8],\n",
    "    \"TrainingTimesLastYear\": [2],\n",
    "    \"WorkLifeBalance\": [3],\n",
    "    \"YearsAtCompany\": [2],\n",
    "    \"YearsInCurrentRole\": [2],\n",
    "    \"YearsSinceLastPromotion\": [2],\n",
    "    \"YearsWithCurrManager\": [2]\n",
    "}\n",
    "\n",
    "input_data_df = pd.DataFrame(input_data)"
   ]
  },
  {
   "cell_type": "code",
   "execution_count": null,
   "metadata": {
    "execution": {
     "iopub.execute_input": "2022-09-27T06:58:09.397147Z",
     "iopub.status.busy": "2022-09-27T06:58:09.396565Z",
     "iopub.status.idle": "2022-09-27T06:58:09.406518Z",
     "shell.execute_reply": "2022-09-27T06:58:09.40567Z",
     "shell.execute_reply.started": "2022-09-27T06:58:09.397101Z"
    }
   },
   "outputs": [],
   "source": [
    "def prepare_confusion_matrix(algo, model):\n",
    "    print(algo)\n",
    "    plt.figure(figsize=(12,8))\n",
    "    pred = model.predict(X_test)\n",
    "    cm = confusion_matrix(y_test, pred)\n",
    "    ax= plt.subplot()\n",
    "    sns.heatmap(cm, annot=True, fmt='g', ax=ax)\n",
    "    plt.show()\n",
    "    \n",
    "    # labels, title and ticks\n",
    "    ax.set_xlabel('Predicted labels');ax.set_ylabel('True labels'); \n",
    "    ax.set_title('Confusion Matrix'); "
   ]
  },
  {
   "cell_type": "code",
   "execution_count": null,
   "metadata": {
    "execution": {
     "iopub.execute_input": "2022-09-27T06:58:09.409132Z",
     "iopub.status.busy": "2022-09-27T06:58:09.407994Z",
     "iopub.status.idle": "2022-09-27T06:58:09.415815Z",
     "shell.execute_reply": "2022-09-27T06:58:09.414971Z",
     "shell.execute_reply.started": "2022-09-27T06:58:09.409099Z"
    }
   },
   "outputs": [],
   "source": [
    "def prepare_classification_report(algo, model):\n",
    "    print(algo+' Report :')\n",
    "#     pred = model.predict(X_test)\n",
    "#     print(type(input_data_df))\n",
    "    pred_testrow = model.predict(input_data_df)\n",
    "#     print(classification_report(y_test, pred))\n",
    "    print(\"My row prediction: \", pred_testrow)"
   ]
  },
  {
   "cell_type": "code",
   "execution_count": null,
   "metadata": {
    "execution": {
     "iopub.execute_input": "2022-09-27T06:58:09.417823Z",
     "iopub.status.busy": "2022-09-27T06:58:09.417237Z",
     "iopub.status.idle": "2022-09-27T06:58:09.426192Z",
     "shell.execute_reply": "2022-09-27T06:58:09.425251Z",
     "shell.execute_reply.started": "2022-09-27T06:58:09.417791Z"
    }
   },
   "outputs": [],
   "source": [
    "def prepare_roc_curve(algo, model):\n",
    "    print(algo)\n",
    "    y_pred_proba = model.predict_proba(X_test)[::,1]\n",
    "    #print(y_test)\n",
    "    #print(y_pred_proba)\n",
    "    fpr, tpr, thresholds = roc_curve(y_test,  y_pred_proba)\n",
    "    roc_auc = auc(fpr, tpr)\n",
    "    curve = RocCurveDisplay(fpr=fpr, tpr=tpr, roc_auc=roc_auc)\n",
    "    curve.plot()\n",
    "    plt.show()"
   ]
  },
  {
   "cell_type": "markdown",
   "metadata": {},
   "source": [
    "## Model Preparation"
   ]
  },
  {
   "cell_type": "code",
   "execution_count": null,
   "metadata": {
    "execution": {
     "iopub.execute_input": "2022-09-27T06:58:09.428203Z",
     "iopub.status.busy": "2022-09-27T06:58:09.42756Z",
     "iopub.status.idle": "2022-09-27T06:58:12.178146Z",
     "shell.execute_reply": "2022-09-27T06:58:12.176174Z",
     "shell.execute_reply.started": "2022-09-27T06:58:09.428171Z"
    }
   },
   "outputs": [],
   "source": [
    "algorithms = [('bagging classifier', BaggingClassifier()), \n",
    "              ('KNN classifier', KNeighborsClassifier()), \n",
    "              ('Random Forest calssifier', RandomForestClassifier()), \n",
    "              ('Adaboost classifier', AdaBoostClassifier()), \n",
    "              ('Gradientboot classifier',GradientBoostingClassifier()),\n",
    "              ('MLP', MLPClassifier())\n",
    "             ]\n",
    "\n",
    "trained_models = []\n",
    "model_and_score = {}\n",
    "\n",
    "for index, tup in enumerate(algorithms):\n",
    "    model = prepare_model(tup[1])\n",
    "    model_and_score[tup[0]] = str(model.score(X_train,y_train)*100)+\"%\"\n",
    "    trained_models.append((tup[0],model))"
   ]
  },
  {
   "cell_type": "markdown",
   "metadata": {},
   "source": [
    "## Model Evaluation"
   ]
  },
  {
   "cell_type": "code",
   "execution_count": null,
   "metadata": {
    "execution": {
     "iopub.execute_input": "2022-09-27T06:58:12.192067Z",
     "iopub.status.busy": "2022-09-27T06:58:12.186953Z",
     "iopub.status.idle": "2022-09-27T06:58:12.207098Z",
     "shell.execute_reply": "2022-09-27T06:58:12.205528Z",
     "shell.execute_reply.started": "2022-09-27T06:58:12.191991Z"
    }
   },
   "outputs": [],
   "source": [
    "print(model_and_score)"
   ]
  },
  {
   "cell_type": "code",
   "execution_count": null,
   "metadata": {
    "execution": {
     "iopub.execute_input": "2022-09-27T06:58:12.209882Z",
     "iopub.status.busy": "2022-09-27T06:58:12.209085Z",
     "iopub.status.idle": "2022-09-27T06:58:13.882041Z",
     "shell.execute_reply": "2022-09-27T06:58:13.880855Z",
     "shell.execute_reply.started": "2022-09-27T06:58:12.209834Z"
    }
   },
   "outputs": [],
   "source": [
    "for index, tup in enumerate(trained_models):\n",
    "    prepare_confusion_matrix(tup[0], tup[1])"
   ]
  },
  {
   "cell_type": "code",
   "execution_count": null,
   "metadata": {
    "execution": {
     "iopub.execute_input": "2022-09-27T06:58:13.884894Z",
     "iopub.status.busy": "2022-09-27T06:58:13.884064Z",
     "iopub.status.idle": "2022-09-27T06:58:14.095342Z",
     "shell.execute_reply": "2022-09-27T06:58:14.093838Z",
     "shell.execute_reply.started": "2022-09-27T06:58:13.884848Z"
    },
    "scrolled": true
   },
   "outputs": [],
   "source": [
    "for index, tup in enumerate(trained_models):\n",
    "    prepare_classification_report(tup[0], tup[1])\n",
    "    print(\"\\n\")"
   ]
  },
  {
   "cell_type": "code",
   "execution_count": null,
   "metadata": {
    "execution": {
     "iopub.execute_input": "2022-09-27T06:58:14.099081Z",
     "iopub.status.busy": "2022-09-27T06:58:14.097956Z",
     "iopub.status.idle": "2022-09-27T06:58:15.428053Z",
     "shell.execute_reply": "2022-09-27T06:58:15.426884Z",
     "shell.execute_reply.started": "2022-09-27T06:58:14.099017Z"
    }
   },
   "outputs": [],
   "source": [
    "encoder = LabelEncoder()\n",
    "y_test = encoder.fit_transform(y_test)\n",
    "\n",
    "for index, tup in enumerate(trained_models):\n",
    "    prepare_roc_curve(tup[0], tup[1])"
   ]
  },
  {
   "cell_type": "code",
   "execution_count": null,
   "metadata": {
    "scrolled": true
   },
   "outputs": [],
   "source": [
    "# input_data = {\n",
    "#     \"Age\": [40],\n",
    "#     \"BusinessTravel\": ['Non-Travel'],\n",
    "#     \"DailyRate\": [1142],\n",
    "#     \"Department\": ['Research & Development'],\n",
    "#     \"DistanceFromHome\": [8],\n",
    "#     \"Education\": [2],\n",
    "#     \"EducationField\": ['Life Sciences'],\n",
    "#     \"EmployeeCount\": [1],\n",
    "#     \"EmployeeNumber\": [1552],\n",
    "#     \"EnvironmentSatisfaction\": [4],\n",
    "#     \"Gender\": ['Male'],\n",
    "#     \"HourlyRate\": [72],\n",
    "#     \"JobInvolvement\": [3],\n",
    "#     \"JobLevel\": [2],\n",
    "#     \"JobRole\": ['Healthcare Representative'],\n",
    "#     \"JobSatisfaction\": [4],\n",
    "#     \"MaritalStatus\": ['Divorced'],\n",
    "#     \"MonthlyIncome\": [4069],\n",
    "#     \"MonthlyRate\": [8841],\n",
    "#     \"NumCompaniesWorked\": [3],\n",
    "#     \"Over18\": ['Y'],\n",
    "#     \"OverTime\": ['Yes'],\n",
    "#     \"PercentSalaryHike\": [18],\n",
    "#     \"PerformanceRating\": [3],\n",
    "#     \"RelationshipSatisfaction\": [3],\n",
    "#     \"StandardHours\": [80],\n",
    "#     \"StockOptionLevel\": [0],\n",
    "#     \"TotalWorkingYears\": [8],\n",
    "#     \"TrainingTimesLastYear\": [2],\n",
    "#     \"WorkLifeBalance\": [3],\n",
    "#     \"YearsAtCompany\": [2],\n",
    "#     \"YearsInCurrentRole\": [2],\n",
    "#     \"YearsSinceLastPromotion\": [2],\n",
    "#     \"YearsWithCurrManager\": [2]\n",
    "# }\n",
    "\n"
   ]
  },
  {
   "cell_type": "code",
   "execution_count": null,
   "metadata": {},
   "outputs": [],
   "source": []
  }
 ],
 "metadata": {
  "kaggle": {
   "accelerator": "none",
   "dataSources": [
    {
     "datasetId": 2472819,
     "sourceId": 4192992,
     "sourceType": "datasetVersion"
    }
   ],
   "dockerImageVersionId": 30260,
   "isGpuEnabled": false,
   "isInternetEnabled": false,
   "language": "python",
   "sourceType": "notebook"
  },
  "kernelspec": {
   "display_name": "Python 3 (ipykernel)",
   "language": "python",
   "name": "python3"
  },
  "language_info": {
   "codemirror_mode": {
    "name": "ipython",
    "version": 3
   },
   "file_extension": ".py",
   "mimetype": "text/x-python",
   "name": "python",
   "nbconvert_exporter": "python",
   "pygments_lexer": "ipython3",
   "version": "3.11.4"
  }
 },
 "nbformat": 4,
 "nbformat_minor": 4
}
