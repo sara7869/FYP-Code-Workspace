{
 "cells": [
  {
   "cell_type": "markdown",
   "id": "7fdb3fdf",
   "metadata": {
    "_cell_guid": "b1076dfc-b9ad-4769-8c92-a6c4dae69d19",
    "_kg_hide-input": false,
    "_uuid": "8f2839f25d086af736a60e9eeb907d3b93b6e0e5",
    "execution": {
     "iopub.execute_input": "2023-01-17T17:09:34.910956Z",
     "iopub.status.busy": "2023-01-17T17:09:34.910572Z",
     "iopub.status.idle": "2023-01-17T17:09:41.58549Z",
     "shell.execute_reply": "2023-01-17T17:09:41.584564Z",
     "shell.execute_reply.started": "2023-01-17T17:09:34.910886Z"
    },
    "papermill": {
     "duration": 0.02166,
     "end_time": "2023-01-18T19:09:28.806268",
     "exception": false,
     "start_time": "2023-01-18T19:09:28.784608",
     "status": "completed"
    },
    "tags": []
   },
   "source": [
    "Hello fellow kagglers!\n",
    "\n",
    "Today we will learn what to do to keep your employee from leaving. As target is \"Attrition\" and it means that one will quit his job if he is very exhausted."
   ]
  },
  {
   "cell_type": "code",
   "execution_count": 10,
   "id": "26de49c6-c5a7-4b47-92fd-3888943216e4",
   "metadata": {},
   "outputs": [
    {
     "name": "stdout",
     "output_type": "stream",
     "text": [
      "Requirement already satisfied: lightgbm in c:\\users\\saray\\anaconda3\\lib\\site-packages (4.3.0)\n",
      "Requirement already satisfied: numpy in c:\\users\\saray\\anaconda3\\lib\\site-packages (from lightgbm) (1.26.3)\n",
      "Requirement already satisfied: scipy in c:\\users\\saray\\anaconda3\\lib\\site-packages (from lightgbm) (1.11.4)\n"
     ]
    }
   ],
   "source": [
    "!pip install lightgbm"
   ]
  },
  {
   "cell_type": "code",
   "execution_count": 11,
   "id": "b8fbba45",
   "metadata": {
    "_kg_hide-input": true,
    "papermill": {
     "duration": 9.798565,
     "end_time": "2023-01-18T19:09:38.624111",
     "exception": false,
     "start_time": "2023-01-18T19:09:28.825546",
     "status": "completed"
    },
    "tags": []
   },
   "outputs": [
    {
     "name": "stderr",
     "output_type": "stream",
     "text": [
      "C:\\Users\\saray\\anaconda3\\Lib\\site-packages\\dask\\dataframe\\_pyarrow_compat.py:23: UserWarning: You are using pyarrow version 11.0.0 which is known to be insecure. See https://www.cve.org/CVERecord?id=CVE-2023-47248 for further details. Please upgrade to pyarrow>=14.0.1 or install pyarrow-hotfix to patch your current version.\n",
      "  warnings.warn(\n"
     ]
    },
    {
     "name": "stdout",
     "output_type": "stream",
     "text": [
      "WARNING:tensorflow:From C:\\Users\\saray\\anaconda3\\Lib\\site-packages\\keras\\src\\losses.py:2976: The name tf.losses.sparse_softmax_cross_entropy is deprecated. Please use tf.compat.v1.losses.sparse_softmax_cross_entropy instead.\n",
      "\n"
     ]
    }
   ],
   "source": [
    "import os\n",
    "from datetime import datetime\n",
    "from IPython.display import Audio, display\n",
    "import numpy as np\n",
    "import pandas as pd\n",
    "import seaborn as sns\n",
    "from category_encoders.leave_one_out import LeaveOneOutEncoder\n",
    "import sklearn\n",
    "from sklearn.manifold import TSNE\n",
    "from sklearn.utils import shuffle\n",
    "from sklearn.pipeline import Pipeline\n",
    "from sklearn.impute import SimpleImputer\n",
    "from sklearn.compose import ColumnTransformer\n",
    "from sklearn.preprocessing import OrdinalEncoder, OneHotEncoder, StandardScaler, PolynomialFeatures\n",
    "from sklearn.metrics import accuracy_score, roc_auc_score\n",
    "from sklearn.model_selection import train_test_split, cross_val_predict, KFold, StratifiedKFold, RepeatedStratifiedKFold, RandomizedSearchCV\n",
    "from sklearn.linear_model import LogisticRegression, Lasso, LogisticRegressionCV, LassoCV, ElasticNetCV, RidgeCV, LarsCV, Ridge\n",
    "from sklearn.tree import DecisionTreeClassifier, DecisionTreeRegressor\n",
    "from sklearn.ensemble import RandomForestClassifier, ExtraTreesClassifier, RandomForestRegressor, ExtraTreesRegressor\n",
    "import matplotlib.pyplot as plt\n",
    "import matplotlib as mpl\n",
    "from xgboost import XGBClassifier, XGBRegressor\n",
    "from catboost import CatBoostClassifier, CatBoostRegressor\n",
    "from lightgbm.sklearn import LGBMClassifier, LGBMRegressor\n",
    "import tensorflow as tf\n",
    "import tensorflow.keras.layers as layers\n",
    "from scipy import special\n",
    "\n",
    "%matplotlib inline"
   ]
  },
  {
   "cell_type": "code",
   "execution_count": 12,
   "id": "df5a3331",
   "metadata": {
    "papermill": {
     "duration": 0.029401,
     "end_time": "2023-01-18T19:09:38.672956",
     "exception": false,
     "start_time": "2023-01-18T19:09:38.643555",
     "status": "completed"
    },
    "tags": []
   },
   "outputs": [],
   "source": [
    "class conf:\n",
    "    index = 'id'\n",
    "    target = 'Attrition'\n",
    "    random = 2023\n",
    "    \n",
    "    load_original = True\n",
    "np.random.seed(conf.random)"
   ]
  },
  {
   "cell_type": "markdown",
   "id": "abbeb888",
   "metadata": {
    "papermill": {
     "duration": 0.018936,
     "end_time": "2023-01-18T19:09:38.711372",
     "exception": false,
     "start_time": "2023-01-18T19:09:38.692436",
     "status": "completed"
    },
    "tags": []
   },
   "source": [
    "# Load data and quick look"
   ]
  },
  {
   "cell_type": "code",
   "execution_count": 14,
   "id": "847d447a",
   "metadata": {
    "papermill": {
     "duration": 0.118128,
     "end_time": "2023-01-18T19:09:38.848793",
     "exception": false,
     "start_time": "2023-01-18T19:09:38.730665",
     "status": "completed"
    },
    "tags": []
   },
   "outputs": [
    {
     "ename": "ValueError",
     "evalue": "Index id invalid",
     "output_type": "error",
     "traceback": [
      "\u001b[1;31m---------------------------------------------------------------------------\u001b[0m",
      "\u001b[1;31mValueError\u001b[0m                                Traceback (most recent call last)",
      "Cell \u001b[1;32mIn[14], line 1\u001b[0m\n\u001b[1;32m----> 1\u001b[0m train_full \u001b[38;5;241m=\u001b[39m pd\u001b[38;5;241m.\u001b[39mread_csv(\u001b[38;5;124m\"\u001b[39m\u001b[38;5;124m./dataset/IBM HR Analytics Employee Attrition & Performance/WA_Fn-UseC_-HR-Employee-Attrition.csv\u001b[39m\u001b[38;5;124m\"\u001b[39m, index_col\u001b[38;5;241m=\u001b[39mconf\u001b[38;5;241m.\u001b[39mindex)\n\u001b[0;32m      2\u001b[0m \u001b[38;5;28;01mif\u001b[39;00m conf\u001b[38;5;241m.\u001b[39mload_original:\n\u001b[0;32m      3\u001b[0m     original \u001b[38;5;241m=\u001b[39m pd\u001b[38;5;241m.\u001b[39mread_csv(\u001b[38;5;124m\"\u001b[39m\u001b[38;5;124m/dataset/IBM HR Analytics Employee Attrition & Performance/WA_Fn-UseC_-HR-Employee-Attrition.csv\u001b[39m\u001b[38;5;124m\"\u001b[39m)\n",
      "File \u001b[1;32m~\\anaconda3\\Lib\\site-packages\\pandas\\io\\parsers\\readers.py:948\u001b[0m, in \u001b[0;36mread_csv\u001b[1;34m(filepath_or_buffer, sep, delimiter, header, names, index_col, usecols, dtype, engine, converters, true_values, false_values, skipinitialspace, skiprows, skipfooter, nrows, na_values, keep_default_na, na_filter, verbose, skip_blank_lines, parse_dates, infer_datetime_format, keep_date_col, date_parser, date_format, dayfirst, cache_dates, iterator, chunksize, compression, thousands, decimal, lineterminator, quotechar, quoting, doublequote, escapechar, comment, encoding, encoding_errors, dialect, on_bad_lines, delim_whitespace, low_memory, memory_map, float_precision, storage_options, dtype_backend)\u001b[0m\n\u001b[0;32m    935\u001b[0m kwds_defaults \u001b[38;5;241m=\u001b[39m _refine_defaults_read(\n\u001b[0;32m    936\u001b[0m     dialect,\n\u001b[0;32m    937\u001b[0m     delimiter,\n\u001b[1;32m   (...)\u001b[0m\n\u001b[0;32m    944\u001b[0m     dtype_backend\u001b[38;5;241m=\u001b[39mdtype_backend,\n\u001b[0;32m    945\u001b[0m )\n\u001b[0;32m    946\u001b[0m kwds\u001b[38;5;241m.\u001b[39mupdate(kwds_defaults)\n\u001b[1;32m--> 948\u001b[0m \u001b[38;5;28;01mreturn\u001b[39;00m _read(filepath_or_buffer, kwds)\n",
      "File \u001b[1;32m~\\anaconda3\\Lib\\site-packages\\pandas\\io\\parsers\\readers.py:617\u001b[0m, in \u001b[0;36m_read\u001b[1;34m(filepath_or_buffer, kwds)\u001b[0m\n\u001b[0;32m    614\u001b[0m     \u001b[38;5;28;01mreturn\u001b[39;00m parser\n\u001b[0;32m    616\u001b[0m \u001b[38;5;28;01mwith\u001b[39;00m parser:\n\u001b[1;32m--> 617\u001b[0m     \u001b[38;5;28;01mreturn\u001b[39;00m parser\u001b[38;5;241m.\u001b[39mread(nrows)\n",
      "File \u001b[1;32m~\\anaconda3\\Lib\\site-packages\\pandas\\io\\parsers\\readers.py:1748\u001b[0m, in \u001b[0;36mTextFileReader.read\u001b[1;34m(self, nrows)\u001b[0m\n\u001b[0;32m   1741\u001b[0m nrows \u001b[38;5;241m=\u001b[39m validate_integer(\u001b[38;5;124m\"\u001b[39m\u001b[38;5;124mnrows\u001b[39m\u001b[38;5;124m\"\u001b[39m, nrows)\n\u001b[0;32m   1742\u001b[0m \u001b[38;5;28;01mtry\u001b[39;00m:\n\u001b[0;32m   1743\u001b[0m     \u001b[38;5;66;03m# error: \"ParserBase\" has no attribute \"read\"\u001b[39;00m\n\u001b[0;32m   1744\u001b[0m     (\n\u001b[0;32m   1745\u001b[0m         index,\n\u001b[0;32m   1746\u001b[0m         columns,\n\u001b[0;32m   1747\u001b[0m         col_dict,\n\u001b[1;32m-> 1748\u001b[0m     ) \u001b[38;5;241m=\u001b[39m \u001b[38;5;28mself\u001b[39m\u001b[38;5;241m.\u001b[39m_engine\u001b[38;5;241m.\u001b[39mread(  \u001b[38;5;66;03m# type: ignore[attr-defined]\u001b[39;00m\n\u001b[0;32m   1749\u001b[0m         nrows\n\u001b[0;32m   1750\u001b[0m     )\n\u001b[0;32m   1751\u001b[0m \u001b[38;5;28;01mexcept\u001b[39;00m \u001b[38;5;167;01mException\u001b[39;00m:\n\u001b[0;32m   1752\u001b[0m     \u001b[38;5;28mself\u001b[39m\u001b[38;5;241m.\u001b[39mclose()\n",
      "File \u001b[1;32m~\\anaconda3\\Lib\\site-packages\\pandas\\io\\parsers\\c_parser_wrapper.py:333\u001b[0m, in \u001b[0;36mCParserWrapper.read\u001b[1;34m(self, nrows)\u001b[0m\n\u001b[0;32m    330\u001b[0m     data \u001b[38;5;241m=\u001b[39m {k: v \u001b[38;5;28;01mfor\u001b[39;00m k, (i, v) \u001b[38;5;129;01min\u001b[39;00m \u001b[38;5;28mzip\u001b[39m(names, data_tups)}\n\u001b[0;32m    332\u001b[0m     names, date_data \u001b[38;5;241m=\u001b[39m \u001b[38;5;28mself\u001b[39m\u001b[38;5;241m.\u001b[39m_do_date_conversions(names, data)\n\u001b[1;32m--> 333\u001b[0m     index, column_names \u001b[38;5;241m=\u001b[39m \u001b[38;5;28mself\u001b[39m\u001b[38;5;241m.\u001b[39m_make_index(date_data, alldata, names)\n\u001b[0;32m    335\u001b[0m \u001b[38;5;28;01mreturn\u001b[39;00m index, column_names, date_data\n",
      "File \u001b[1;32m~\\anaconda3\\Lib\\site-packages\\pandas\\io\\parsers\\base_parser.py:370\u001b[0m, in \u001b[0;36mParserBase._make_index\u001b[1;34m(self, data, alldata, columns, indexnamerow)\u001b[0m\n\u001b[0;32m    367\u001b[0m     index \u001b[38;5;241m=\u001b[39m \u001b[38;5;28;01mNone\u001b[39;00m\n\u001b[0;32m    369\u001b[0m \u001b[38;5;28;01melif\u001b[39;00m \u001b[38;5;129;01mnot\u001b[39;00m \u001b[38;5;28mself\u001b[39m\u001b[38;5;241m.\u001b[39m_has_complex_date_col:\n\u001b[1;32m--> 370\u001b[0m     simple_index \u001b[38;5;241m=\u001b[39m \u001b[38;5;28mself\u001b[39m\u001b[38;5;241m.\u001b[39m_get_simple_index(alldata, columns)\n\u001b[0;32m    371\u001b[0m     index \u001b[38;5;241m=\u001b[39m \u001b[38;5;28mself\u001b[39m\u001b[38;5;241m.\u001b[39m_agg_index(simple_index)\n\u001b[0;32m    372\u001b[0m \u001b[38;5;28;01melif\u001b[39;00m \u001b[38;5;28mself\u001b[39m\u001b[38;5;241m.\u001b[39m_has_complex_date_col:\n",
      "File \u001b[1;32m~\\anaconda3\\Lib\\site-packages\\pandas\\io\\parsers\\base_parser.py:402\u001b[0m, in \u001b[0;36mParserBase._get_simple_index\u001b[1;34m(self, data, columns)\u001b[0m\n\u001b[0;32m    400\u001b[0m index \u001b[38;5;241m=\u001b[39m []\n\u001b[0;32m    401\u001b[0m \u001b[38;5;28;01mfor\u001b[39;00m idx \u001b[38;5;129;01min\u001b[39;00m \u001b[38;5;28mself\u001b[39m\u001b[38;5;241m.\u001b[39mindex_col:\n\u001b[1;32m--> 402\u001b[0m     i \u001b[38;5;241m=\u001b[39m ix(idx)\n\u001b[0;32m    403\u001b[0m     to_remove\u001b[38;5;241m.\u001b[39mappend(i)\n\u001b[0;32m    404\u001b[0m     index\u001b[38;5;241m.\u001b[39mappend(data[i])\n",
      "File \u001b[1;32m~\\anaconda3\\Lib\\site-packages\\pandas\\io\\parsers\\base_parser.py:397\u001b[0m, in \u001b[0;36mParserBase._get_simple_index.<locals>.ix\u001b[1;34m(col)\u001b[0m\n\u001b[0;32m    395\u001b[0m \u001b[38;5;28;01mif\u001b[39;00m \u001b[38;5;129;01mnot\u001b[39;00m \u001b[38;5;28misinstance\u001b[39m(col, \u001b[38;5;28mstr\u001b[39m):\n\u001b[0;32m    396\u001b[0m     \u001b[38;5;28;01mreturn\u001b[39;00m col\n\u001b[1;32m--> 397\u001b[0m \u001b[38;5;28;01mraise\u001b[39;00m \u001b[38;5;167;01mValueError\u001b[39;00m(\u001b[38;5;124mf\u001b[39m\u001b[38;5;124m\"\u001b[39m\u001b[38;5;124mIndex \u001b[39m\u001b[38;5;132;01m{\u001b[39;00mcol\u001b[38;5;132;01m}\u001b[39;00m\u001b[38;5;124m invalid\u001b[39m\u001b[38;5;124m\"\u001b[39m)\n",
      "\u001b[1;31mValueError\u001b[0m: Index id invalid"
     ]
    }
   ],
   "source": [
    "train_full = pd.read_csv(\"./dataset/IBM HR Analytics Employee Attrition & Performance/WA_Fn-UseC_-HR-Employee-Attrition.csv\", index_col=conf.index)\n",
    "if conf.load_original:\n",
    "    original = pd.read_csv(\"/dataset/IBM HR Analytics Employee Attrition & Performance/WA_Fn-UseC_-HR-Employee-Attrition.csv\")\n",
    "    original.drop([\"EmployeeNumber\"], axis=1, inplace=True)\n",
    "    original.Attrition = original.Attrition.apply(lambda x: 1 if x == \"Yes\" else 0)\n",
    "    train_full = pd.concat([train_full, original], axis=0, ignore_index=True)\n",
    "test_full = pd.read_csv(\"/kaggle/input/playground-series-s3e3/test.csv\", index_col=conf.index)\n",
    "print(f\"Dataset size:     {len(train_full)}\")\n",
    "print(f\"Columns with nan: {train_full.isna().any().sum()}\")"
   ]
  },
  {
   "cell_type": "code",
   "execution_count": null,
   "id": "ec278b9e",
   "metadata": {
    "papermill": {
     "duration": 0.050711,
     "end_time": "2023-01-18T19:09:38.919153",
     "exception": false,
     "start_time": "2023-01-18T19:09:38.868442",
     "status": "completed"
    },
    "tags": []
   },
   "outputs": [],
   "source": [
    "train_full.info()"
   ]
  },
  {
   "cell_type": "code",
   "execution_count": null,
   "id": "3e0091cc",
   "metadata": {
    "papermill": {
     "duration": 0.041241,
     "end_time": "2023-01-18T19:09:38.980256",
     "exception": false,
     "start_time": "2023-01-18T19:09:38.939015",
     "status": "completed"
    },
    "tags": []
   },
   "outputs": [],
   "source": [
    "train_full.nunique()"
   ]
  },
  {
   "cell_type": "code",
   "execution_count": null,
   "id": "9f74b196",
   "metadata": {
    "papermill": {
     "duration": 0.046733,
     "end_time": "2023-01-18T19:09:39.047885",
     "exception": false,
     "start_time": "2023-01-18T19:09:39.001152",
     "status": "completed"
    },
    "tags": []
   },
   "outputs": [],
   "source": [
    "train_full.nunique()[train_full.nunique() == 1]"
   ]
  },
  {
   "cell_type": "code",
   "execution_count": null,
   "id": "afbfce3c",
   "metadata": {
    "papermill": {
     "duration": 0.040477,
     "end_time": "2023-01-18T19:09:39.108919",
     "exception": false,
     "start_time": "2023-01-18T19:09:39.068442",
     "status": "completed"
    },
    "tags": []
   },
   "outputs": [],
   "source": [
    "train_full.drop([\"EmployeeCount\", \"Over18\", \"StandardHours\"], axis=1, inplace=True)\n",
    "test_full.drop([\"EmployeeCount\", \"Over18\", \"StandardHours\"], axis=1, inplace=True)\n",
    "\n",
    "num_cols = [\"Age\", \"DailyRate\", \"DistanceFromHome\", \"HourlyRate\", \"MonthlyIncome\", \"MonthlyRate\",\n",
    "            \"HourlyRate\", \"NumCompaniesWorked\", \"PercentSalaryHike\", \"TotalWorkingYears\",\n",
    "            \"TrainingTimesLastYear\", \"YearsAtCompany\", \"YearsInCurrentRole\", \"YearsSinceLastPromotion\",\n",
    "            \"YearsWithCurrManager\"]\n",
    "cat_cols = train_full.drop([conf.target], axis=1).columns.difference(num_cols)\n",
    "cat_cols"
   ]
  },
  {
   "cell_type": "code",
   "execution_count": null,
   "id": "b874f7d8",
   "metadata": {
    "papermill": {
     "duration": 0.084741,
     "end_time": "2023-01-18T19:09:39.213411",
     "exception": false,
     "start_time": "2023-01-18T19:09:39.128670",
     "status": "completed"
    },
    "tags": []
   },
   "outputs": [],
   "source": [
    "train_full[num_cols].describe()"
   ]
  },
  {
   "cell_type": "code",
   "execution_count": null,
   "id": "8a24f805",
   "metadata": {
    "papermill": {
     "duration": 0.040151,
     "end_time": "2023-01-18T19:09:39.273741",
     "exception": false,
     "start_time": "2023-01-18T19:09:39.233590",
     "status": "completed"
    },
    "tags": []
   },
   "outputs": [],
   "source": [
    "train_full[num_cols].head()"
   ]
  },
  {
   "cell_type": "code",
   "execution_count": null,
   "id": "9766215c",
   "metadata": {
    "papermill": {
     "duration": 0.043122,
     "end_time": "2023-01-18T19:09:39.337123",
     "exception": false,
     "start_time": "2023-01-18T19:09:39.294001",
     "status": "completed"
    },
    "tags": []
   },
   "outputs": [],
   "source": [
    "train_full[cat_cols].head()"
   ]
  },
  {
   "cell_type": "markdown",
   "id": "12ffc21e",
   "metadata": {
    "papermill": {
     "duration": 0.020426,
     "end_time": "2023-01-18T19:09:39.379105",
     "exception": false,
     "start_time": "2023-01-18T19:09:39.358679",
     "status": "completed"
    },
    "tags": []
   },
   "source": [
    "Insights:\n",
    "* Small dataset.\n",
    "* No nan values\n",
    "* 33 columns! (exclude target)\n",
    "* 3 columns-constants with only 1 unique value: \"EmployeeCount\", \"Over18\", \"StandardHours\". I think we should not use them in models.\n"
   ]
  },
  {
   "cell_type": "markdown",
   "id": "118e30ae",
   "metadata": {
    "papermill": {
     "duration": 0.02013,
     "end_time": "2023-01-18T19:09:39.419779",
     "exception": false,
     "start_time": "2023-01-18T19:09:39.399649",
     "status": "completed"
    },
    "tags": []
   },
   "source": [
    "# Target distribution"
   ]
  },
  {
   "cell_type": "code",
   "execution_count": null,
   "id": "a2c75940",
   "metadata": {
    "_kg_hide-input": true,
    "papermill": {
     "duration": 0.180374,
     "end_time": "2023-01-18T19:09:39.620631",
     "exception": false,
     "start_time": "2023-01-18T19:09:39.440257",
     "status": "completed"
    },
    "tags": []
   },
   "outputs": [],
   "source": [
    "plt.figure(figsize=(9,9),)\n",
    "plt.title(\"Attrition\")\n",
    "plt.pie(train_full[conf.target].value_counts(), labels = [\"No\", \"Yes\"], autopct='%.0f%%', textprops={'fontsize': 14},)\n",
    "plt.show()"
   ]
  },
  {
   "cell_type": "markdown",
   "id": "a20cee36",
   "metadata": {
    "papermill": {
     "duration": 0.031255,
     "end_time": "2023-01-18T19:09:39.687020",
     "exception": false,
     "start_time": "2023-01-18T19:09:39.655765",
     "status": "completed"
    },
    "tags": []
   },
   "source": [
    "# Numerical distribution"
   ]
  },
  {
   "cell_type": "code",
   "execution_count": null,
   "id": "dbff6ef7",
   "metadata": {
    "_kg_hide-input": true,
    "papermill": {
     "duration": 3.741107,
     "end_time": "2023-01-18T19:09:43.449502",
     "exception": false,
     "start_time": "2023-01-18T19:09:39.708395",
     "status": "completed"
    },
    "tags": []
   },
   "outputs": [],
   "source": [
    "fig, ax = plt.subplots(5, 3, figsize = (20, 5*5))\n",
    "for i, col in enumerate(num_cols):\n",
    "    sns.kdeplot(data=train_full, x=col, fill = True, ax = ax[i // 3][i % 3], hue=conf.target)"
   ]
  },
  {
   "cell_type": "markdown",
   "id": "62797095",
   "metadata": {
    "papermill": {
     "duration": 0.024359,
     "end_time": "2023-01-18T19:09:43.499382",
     "exception": false,
     "start_time": "2023-01-18T19:09:43.475023",
     "status": "completed"
    },
    "tags": []
   },
   "source": [
    "# Categorical distribution\n",
    "The left column shows the distribution of the feature. The right one shows the probability of the target at a given value"
   ]
  },
  {
   "cell_type": "code",
   "execution_count": null,
   "id": "ec5d9624",
   "metadata": {
    "_kg_hide-input": true,
    "papermill": {
     "duration": 5.089226,
     "end_time": "2023-01-18T19:09:48.613419",
     "exception": false,
     "start_time": "2023-01-18T19:09:43.524193",
     "status": "completed"
    },
    "tags": []
   },
   "outputs": [],
   "source": [
    "fig, ax = plt.subplots(16, 2, figsize = (20, 6*16))\n",
    "plt.subplots_adjust(wspace=0.33, hspace=0.2)\n",
    "for i, col in enumerate(cat_cols):\n",
    "    t = (train_full.groupby(col)[conf.target].agg(['sum', 'count']).assign(percent = lambda x: 100 * x['sum'] / x['count'])).reset_index()\n",
    "    sns.countplot(data=train_full, x=col, ax = ax[i][0], order=t[col])\n",
    "    ax[i][1].set(xlim=(0, 40))\n",
    "    sns.barplot(data=t, x=\"percent\", y=col, ax = ax[i][1], orient = \"h\",)\n",
    "    "
   ]
  },
  {
   "cell_type": "markdown",
   "id": "d6cd4b46",
   "metadata": {
    "papermill": {
     "duration": 0.028478,
     "end_time": "2023-01-18T19:09:48.671509",
     "exception": false,
     "start_time": "2023-01-18T19:09:48.643031",
     "status": "completed"
    },
    "tags": []
   },
   "source": [
    "Insights\n",
    "* Classes are imbalanced. 14% vs 86%\n",
    "* Traveling is exhausting.\n",
    "* Environment must satisfy.\n",
    "* Better education, better stability\n",
    "* Men leaves a bit more often then women\n",
    "* Job involvement should be high to retain employees\n",
    "* Low job level? Low stok option level? No time for my hobbies after work? I'm leaving from here now!\n",
    "* We need new Sales representative again this week\n",
    "* Job must satisfy.\n",
    "* If you are single - you search the best job. Married - a good one. Divorced - job doesn't matter\n",
    "* No one likes overtime"
   ]
  },
  {
   "cell_type": "markdown",
   "id": "3e339d83",
   "metadata": {
    "papermill": {
     "duration": 0.028415,
     "end_time": "2023-01-18T19:09:48.728016",
     "exception": false,
     "start_time": "2023-01-18T19:09:48.699601",
     "status": "completed"
    },
    "tags": []
   },
   "source": [
    "# Dimensionality reduction\n",
    "Lets reduce dimensions to 2 and try to find any clusters"
   ]
  },
  {
   "cell_type": "code",
   "execution_count": null,
   "id": "96eba0b7",
   "metadata": {
    "_kg_hide-input": true,
    "_kg_hide-output": true,
    "papermill": {
     "duration": 17.900513,
     "end_time": "2023-01-18T19:10:06.656480",
     "exception": false,
     "start_time": "2023-01-18T19:09:48.755967",
     "status": "completed"
    },
    "tags": []
   },
   "outputs": [],
   "source": [
    "tr = ColumnTransformer([\n",
    "    (\"num\", StandardScaler(), num_cols),\n",
    "    (\"cat\", OrdinalEncoder(), cat_cols),\n",
    "])\n",
    "x_tn = tr.fit_transform(train_full.drop([conf.target], axis=1), train_full[conf.target])\n",
    "\n",
    "tnse = TSNE(n_components=2, random_state=conf.random, perplexity=35, )\n",
    "train_dis = tnse.fit_transform(x_tn)"
   ]
  },
  {
   "cell_type": "code",
   "execution_count": null,
   "id": "c3bcb6ad",
   "metadata": {
    "_kg_hide-input": true,
    "papermill": {
     "duration": 0.415144,
     "end_time": "2023-01-18T19:10:07.100213",
     "exception": false,
     "start_time": "2023-01-18T19:10:06.685069",
     "status": "completed"
    },
    "tags": []
   },
   "outputs": [],
   "source": [
    "plt.figure(figsize=(12,9))\n",
    "sns.scatterplot(x=train_dis[:,0], y=train_dis[:,1], hue=train_full[conf.target], alpha=0.9, )\n",
    "plt.show()"
   ]
  },
  {
   "cell_type": "markdown",
   "id": "fb80c475",
   "metadata": {
    "papermill": {
     "duration": 0.032307,
     "end_time": "2023-01-18T19:10:07.166233",
     "exception": false,
     "start_time": "2023-01-18T19:10:07.133926",
     "status": "completed"
    },
    "tags": []
   },
   "source": [
    "It's a butterfly! =)\n",
    "\n",
    "We can see areas with a higher density of orange dots, but no clear clusters."
   ]
  },
  {
   "cell_type": "markdown",
   "id": "75cb478c",
   "metadata": {
    "papermill": {
     "duration": 0.032252,
     "end_time": "2023-01-18T19:10:07.231119",
     "exception": false,
     "start_time": "2023-01-18T19:10:07.198867",
     "status": "completed"
    },
    "tags": []
   },
   "source": [
    "# Prepare data"
   ]
  },
  {
   "cell_type": "code",
   "execution_count": null,
   "id": "7bd18283",
   "metadata": {
    "papermill": {
     "duration": 0.047077,
     "end_time": "2023-01-18T19:10:07.310587",
     "exception": false,
     "start_time": "2023-01-18T19:10:07.263510",
     "status": "completed"
    },
    "tags": []
   },
   "outputs": [],
   "source": [
    "x_train = train_full.copy()\n",
    "y_train = x_train.pop(conf.target)\n",
    "\n",
    "tr_clf = ColumnTransformer([\n",
    "    (\"num\", SimpleImputer(), num_cols),\n",
    "    (\"cat\", OneHotEncoder(handle_unknown='ignore'), cat_cols),\n",
    "])\n",
    "tr_reg = ColumnTransformer([\n",
    "    (\"num\", StandardScaler(), num_cols),\n",
    "    (\"cat\", OneHotEncoder(handle_unknown='ignore'), cat_cols),\n",
    "])\n",
    "\n",
    "print(\"train shape = \", x_train.shape)"
   ]
  },
  {
   "cell_type": "code",
   "execution_count": null,
   "id": "4f0bb041",
   "metadata": {
    "papermill": {
     "duration": 0.044908,
     "end_time": "2023-01-18T19:10:07.388415",
     "exception": false,
     "start_time": "2023-01-18T19:10:07.343507",
     "status": "completed"
    },
    "tags": []
   },
   "outputs": [],
   "source": [
    "logs = {}\n",
    "def cross_val_auc(name, pipeline, x=x_train, y=y_train, regressor=False, use_reg=False):\n",
    "    if regressor:\n",
    "        x = tr_reg.fit_transform(x)\n",
    "        p = cross_val_predict(pipeline, x, y, cv=10, n_jobs=5, verbose=False)\n",
    "    else:\n",
    "        if use_reg:\n",
    "            x = tr_reg.fit_transform(x)\n",
    "        else:\n",
    "            x = tr_clf.fit_transform(x)\n",
    "        p = cross_val_predict(pipeline, x, y, cv=10, n_jobs=5, method=\"predict_proba\", verbose=False)[:, 1]\n",
    "    auc = roc_auc_score(y, p)\n",
    "    logs[name] = auc\n",
    "    print(f\"auc = {auc:.4f}\")"
   ]
  },
  {
   "cell_type": "markdown",
   "id": "aff5372d",
   "metadata": {
    "papermill": {
     "duration": 0.032641,
     "end_time": "2023-01-18T19:10:07.453622",
     "exception": false,
     "start_time": "2023-01-18T19:10:07.420981",
     "status": "completed"
    },
    "tags": []
   },
   "source": [
    "# Linear models"
   ]
  },
  {
   "cell_type": "markdown",
   "id": "4f363257",
   "metadata": {
    "papermill": {
     "duration": 0.03259,
     "end_time": "2023-01-18T19:10:07.519649",
     "exception": false,
     "start_time": "2023-01-18T19:10:07.487059",
     "status": "completed"
    },
    "tags": []
   },
   "source": [
    "LogisticRegression"
   ]
  },
  {
   "cell_type": "code",
   "execution_count": null,
   "id": "88b5769b",
   "metadata": {
    "papermill": {
     "duration": 133.886584,
     "end_time": "2023-01-18T19:12:21.439201",
     "exception": false,
     "start_time": "2023-01-18T19:10:07.552617",
     "status": "completed"
    },
    "tags": []
   },
   "outputs": [],
   "source": [
    "lr = LogisticRegressionCV(Cs=1000, max_iter=1000)\n",
    "cross_val_auc(\"LogisticRegression\", lr, use_reg=True)"
   ]
  },
  {
   "cell_type": "markdown",
   "id": "5c5aaf3d",
   "metadata": {
    "papermill": {
     "duration": 0.035417,
     "end_time": "2023-01-18T19:12:21.509614",
     "exception": false,
     "start_time": "2023-01-18T19:12:21.474197",
     "status": "completed"
    },
    "tags": []
   },
   "source": [
    "Lasso"
   ]
  },
  {
   "cell_type": "code",
   "execution_count": null,
   "id": "fe4ac29a",
   "metadata": {
    "papermill": {
     "duration": 4.229966,
     "end_time": "2023-01-18T19:12:25.772407",
     "exception": false,
     "start_time": "2023-01-18T19:12:21.542441",
     "status": "completed"
    },
    "tags": []
   },
   "outputs": [],
   "source": [
    "lasso = LassoCV(alphas=np.linspace(0.0001, 100, 1000))\n",
    "cross_val_auc(\"Lasso\", lasso, regressor=True)"
   ]
  },
  {
   "cell_type": "markdown",
   "id": "afb91471",
   "metadata": {
    "papermill": {
     "duration": 0.032863,
     "end_time": "2023-01-18T19:12:25.839065",
     "exception": false,
     "start_time": "2023-01-18T19:12:25.806202",
     "status": "completed"
    },
    "tags": []
   },
   "source": [
    "Ridge"
   ]
  },
  {
   "cell_type": "code",
   "execution_count": null,
   "id": "263502fc",
   "metadata": {
    "papermill": {
     "duration": 5.099888,
     "end_time": "2023-01-18T19:12:30.972032",
     "exception": false,
     "start_time": "2023-01-18T19:12:25.872144",
     "status": "completed"
    },
    "tags": []
   },
   "outputs": [],
   "source": [
    "ridge = RidgeCV(alphas=np.linspace(0.0001, 100, 1000))\n",
    "cross_val_auc(\"Ridge\", ridge, regressor=True)"
   ]
  },
  {
   "cell_type": "markdown",
   "id": "77c61988",
   "metadata": {
    "papermill": {
     "duration": 0.032711,
     "end_time": "2023-01-18T19:12:31.037942",
     "exception": false,
     "start_time": "2023-01-18T19:12:31.005231",
     "status": "completed"
    },
    "tags": []
   },
   "source": [
    "ElasticNet"
   ]
  },
  {
   "cell_type": "code",
   "execution_count": null,
   "id": "9eee1780",
   "metadata": {
    "papermill": {
     "duration": 5.380905,
     "end_time": "2023-01-18T19:12:36.451871",
     "exception": false,
     "start_time": "2023-01-18T19:12:31.070966",
     "status": "completed"
    },
    "tags": []
   },
   "outputs": [],
   "source": [
    "en = ElasticNetCV(alphas=np.linspace(0.0001, 100, 1000), max_iter=10000)\n",
    "cross_val_auc(\"ElasticNet\", en, regressor=True)"
   ]
  },
  {
   "cell_type": "markdown",
   "id": "a752663e",
   "metadata": {
    "papermill": {
     "duration": 0.034006,
     "end_time": "2023-01-18T19:12:36.520642",
     "exception": false,
     "start_time": "2023-01-18T19:12:36.486636",
     "status": "completed"
    },
    "tags": []
   },
   "source": [
    "# Trees"
   ]
  },
  {
   "cell_type": "markdown",
   "id": "fa689552",
   "metadata": {
    "papermill": {
     "duration": 0.032862,
     "end_time": "2023-01-18T19:12:36.586701",
     "exception": false,
     "start_time": "2023-01-18T19:12:36.553839",
     "status": "completed"
    },
    "tags": []
   },
   "source": [
    "DecisionTreeClassifier"
   ]
  },
  {
   "cell_type": "code",
   "execution_count": null,
   "id": "fed932e3",
   "metadata": {
    "papermill": {
     "duration": 0.398821,
     "end_time": "2023-01-18T19:12:37.018935",
     "exception": false,
     "start_time": "2023-01-18T19:12:36.620114",
     "status": "completed"
    },
    "tags": []
   },
   "outputs": [],
   "source": [
    "cross_val_auc(\"DecisionTreeClassifier\", DecisionTreeClassifier(random_state=conf.random))"
   ]
  },
  {
   "cell_type": "markdown",
   "id": "01a99523",
   "metadata": {
    "papermill": {
     "duration": 0.032981,
     "end_time": "2023-01-18T19:12:37.085344",
     "exception": false,
     "start_time": "2023-01-18T19:12:37.052363",
     "status": "completed"
    },
    "tags": []
   },
   "source": [
    "DecisionTreeRegressor"
   ]
  },
  {
   "cell_type": "code",
   "execution_count": null,
   "id": "9f2d711f",
   "metadata": {
    "papermill": {
     "duration": 0.352477,
     "end_time": "2023-01-18T19:12:37.472189",
     "exception": false,
     "start_time": "2023-01-18T19:12:37.119712",
     "status": "completed"
    },
    "tags": []
   },
   "outputs": [],
   "source": [
    "cross_val_auc(\"DecisionTreeRegressor\", DecisionTreeRegressor(random_state=conf.random), regressor=True)"
   ]
  },
  {
   "cell_type": "markdown",
   "id": "99f8391a",
   "metadata": {
    "papermill": {
     "duration": 0.033373,
     "end_time": "2023-01-18T19:12:37.539391",
     "exception": false,
     "start_time": "2023-01-18T19:12:37.506018",
     "status": "completed"
    },
    "tags": []
   },
   "source": [
    "RandomForestClassifier"
   ]
  },
  {
   "cell_type": "code",
   "execution_count": null,
   "id": "0bfd1e28",
   "metadata": {
    "papermill": {
     "duration": 2.340542,
     "end_time": "2023-01-18T19:12:39.914279",
     "exception": false,
     "start_time": "2023-01-18T19:12:37.573737",
     "status": "completed"
    },
    "tags": []
   },
   "outputs": [],
   "source": [
    "cross_val_auc(\"RandomForestClassifier\", RandomForestClassifier(random_state=conf.random))"
   ]
  },
  {
   "cell_type": "markdown",
   "id": "c858fe78",
   "metadata": {
    "papermill": {
     "duration": 0.034737,
     "end_time": "2023-01-18T19:12:39.982625",
     "exception": false,
     "start_time": "2023-01-18T19:12:39.947888",
     "status": "completed"
    },
    "tags": []
   },
   "source": [
    "RandomForestRegressor"
   ]
  },
  {
   "cell_type": "code",
   "execution_count": null,
   "id": "bae56baa",
   "metadata": {
    "papermill": {
     "duration": 9.238148,
     "end_time": "2023-01-18T19:12:49.255880",
     "exception": false,
     "start_time": "2023-01-18T19:12:40.017732",
     "status": "completed"
    },
    "tags": []
   },
   "outputs": [],
   "source": [
    "cross_val_auc(\"RandomForestRegressor\", RandomForestRegressor(random_state=conf.random), regressor=True)"
   ]
  },
  {
   "cell_type": "markdown",
   "id": "e357597e",
   "metadata": {
    "papermill": {
     "duration": 0.033103,
     "end_time": "2023-01-18T19:12:49.322484",
     "exception": false,
     "start_time": "2023-01-18T19:12:49.289381",
     "status": "completed"
    },
    "tags": []
   },
   "source": [
    "ExtraTreesClassifier"
   ]
  },
  {
   "cell_type": "code",
   "execution_count": null,
   "id": "1b6e1412",
   "metadata": {
    "papermill": {
     "duration": 2.221801,
     "end_time": "2023-01-18T19:12:51.577433",
     "exception": false,
     "start_time": "2023-01-18T19:12:49.355632",
     "status": "completed"
    },
    "tags": []
   },
   "outputs": [],
   "source": [
    "cross_val_auc(\"ExtraTreesClassifier\", ExtraTreesClassifier(random_state=conf.random))"
   ]
  },
  {
   "cell_type": "markdown",
   "id": "26245a20",
   "metadata": {
    "papermill": {
     "duration": 0.03389,
     "end_time": "2023-01-18T19:12:51.645656",
     "exception": false,
     "start_time": "2023-01-18T19:12:51.611766",
     "status": "completed"
    },
    "tags": []
   },
   "source": [
    "ExtraTreesRegressor"
   ]
  },
  {
   "cell_type": "code",
   "execution_count": null,
   "id": "57ab224b",
   "metadata": {
    "papermill": {
     "duration": 7.341547,
     "end_time": "2023-01-18T19:12:59.021896",
     "exception": false,
     "start_time": "2023-01-18T19:12:51.680349",
     "status": "completed"
    },
    "tags": []
   },
   "outputs": [],
   "source": [
    "cross_val_auc(\"ExtraTreesRegressor\", ExtraTreesRegressor(random_state=conf.random), regressor=True)"
   ]
  },
  {
   "cell_type": "markdown",
   "id": "91493da7",
   "metadata": {
    "papermill": {
     "duration": 0.033648,
     "end_time": "2023-01-18T19:12:59.089578",
     "exception": false,
     "start_time": "2023-01-18T19:12:59.055930",
     "status": "completed"
    },
    "tags": []
   },
   "source": [
    "# XGB"
   ]
  },
  {
   "cell_type": "code",
   "execution_count": null,
   "id": "e05bb3ea",
   "metadata": {
    "papermill": {
     "duration": 7.794011,
     "end_time": "2023-01-18T19:13:06.918150",
     "exception": false,
     "start_time": "2023-01-18T19:12:59.124139",
     "status": "completed"
    },
    "tags": []
   },
   "outputs": [],
   "source": [
    "cross_val_auc(\"XGBClassifier\", XGBClassifier(random_state=conf.random))"
   ]
  },
  {
   "cell_type": "code",
   "execution_count": null,
   "id": "04305fbd",
   "metadata": {
    "papermill": {
     "duration": 6.818027,
     "end_time": "2023-01-18T19:13:13.769321",
     "exception": false,
     "start_time": "2023-01-18T19:13:06.951294",
     "status": "completed"
    },
    "tags": []
   },
   "outputs": [],
   "source": [
    "cross_val_auc(\"XGBRegressor\", XGBRegressor(random_state=conf.random), regressor=True)"
   ]
  },
  {
   "cell_type": "markdown",
   "id": "318ab33a",
   "metadata": {
    "papermill": {
     "duration": 0.033539,
     "end_time": "2023-01-18T19:13:13.836434",
     "exception": false,
     "start_time": "2023-01-18T19:13:13.802895",
     "status": "completed"
    },
    "tags": []
   },
   "source": [
    "# CatBoost"
   ]
  },
  {
   "cell_type": "code",
   "execution_count": null,
   "id": "124fdd01",
   "metadata": {
    "papermill": {
     "duration": 34.429661,
     "end_time": "2023-01-18T19:13:48.299674",
     "exception": false,
     "start_time": "2023-01-18T19:13:13.870013",
     "status": "completed"
    },
    "tags": []
   },
   "outputs": [],
   "source": [
    "cross_val_auc(\"CatBoostClassifier\", CatBoostClassifier(verbose = False, random_state=conf.random))"
   ]
  },
  {
   "cell_type": "code",
   "execution_count": null,
   "id": "eb0615fc",
   "metadata": {
    "papermill": {
     "duration": 29.945569,
     "end_time": "2023-01-18T19:14:18.279648",
     "exception": false,
     "start_time": "2023-01-18T19:13:48.334079",
     "status": "completed"
    },
    "tags": []
   },
   "outputs": [],
   "source": [
    "cross_val_auc(\"CatBoostRegressor\", CatBoostRegressor(verbose=False, random_state=conf.random), regressor=True)"
   ]
  },
  {
   "cell_type": "markdown",
   "id": "b2f99800",
   "metadata": {
    "papermill": {
     "duration": 0.034151,
     "end_time": "2023-01-18T19:14:18.347892",
     "exception": false,
     "start_time": "2023-01-18T19:14:18.313741",
     "status": "completed"
    },
    "tags": []
   },
   "source": [
    "# LGBM"
   ]
  },
  {
   "cell_type": "code",
   "execution_count": null,
   "id": "1e4696f3",
   "metadata": {
    "papermill": {
     "duration": 2.566876,
     "end_time": "2023-01-18T19:14:20.948646",
     "exception": false,
     "start_time": "2023-01-18T19:14:18.381770",
     "status": "completed"
    },
    "tags": []
   },
   "outputs": [],
   "source": [
    "cross_val_auc(\"LGBMClassifier\", LGBMClassifier(random_state=conf.random))"
   ]
  },
  {
   "cell_type": "code",
   "execution_count": null,
   "id": "af95d086",
   "metadata": {
    "papermill": {
     "duration": 1.087495,
     "end_time": "2023-01-18T19:14:22.070318",
     "exception": false,
     "start_time": "2023-01-18T19:14:20.982823",
     "status": "completed"
    },
    "tags": []
   },
   "outputs": [],
   "source": [
    "cross_val_auc(\"LGBMRegressor\", LGBMRegressor(random_state=conf.random), regressor=True)"
   ]
  },
  {
   "cell_type": "markdown",
   "id": "33f1fcdf",
   "metadata": {
    "papermill": {
     "duration": 0.033811,
     "end_time": "2023-01-18T19:14:22.138633",
     "exception": false,
     "start_time": "2023-01-18T19:14:22.104822",
     "status": "completed"
    },
    "tags": []
   },
   "source": [
    "# Models stats"
   ]
  },
  {
   "cell_type": "code",
   "execution_count": null,
   "id": "05fbc33d",
   "metadata": {
    "_kg_hide-input": true,
    "papermill": {
     "duration": 0.477971,
     "end_time": "2023-01-18T19:14:22.650557",
     "exception": false,
     "start_time": "2023-01-18T19:14:22.172586",
     "status": "completed"
    },
    "tags": []
   },
   "outputs": [],
   "source": [
    "logs_df = pd.DataFrame(logs.items(), columns=['Model', 'Auc']).sort_values(by=\"Auc\", ascending=False)\n",
    "logs_df.Auc = logs_df.Auc.apply(lambda x: int(x*10000)/10000.0)\n",
    "logs_df[\"Label\"] = logs_df.apply(lambda x: x[\"Model\"] + \" \" + str(x[\"Auc\"]), axis=1)\n",
    "\n",
    "plt.figure(figsize=(14,9))\n",
    "ax = sns.barplot(data=logs_df, x=\"Auc\", y=\"Model\",)\n",
    "ax.bar_label(ax.containers[0])\n",
    "ax.set(xlim=(0, 1))"
   ]
  },
  {
   "cell_type": "markdown",
   "id": "9af93f9f",
   "metadata": {
    "papermill": {
     "duration": 0.036312,
     "end_time": "2023-01-18T19:14:22.721807",
     "exception": false,
     "start_time": "2023-01-18T19:14:22.685495",
     "status": "completed"
    },
    "tags": []
   },
   "source": [
    "Looks like CatBoost and some linear models are better. But we searched linear and no other models. Let's do random search a little"
   ]
  },
  {
   "cell_type": "markdown",
   "id": "7dd48e53",
   "metadata": {
    "papermill": {
     "duration": 0.036698,
     "end_time": "2023-01-18T19:14:22.794937",
     "exception": false,
     "start_time": "2023-01-18T19:14:22.758239",
     "status": "completed"
    },
    "tags": []
   },
   "source": [
    "# Search"
   ]
  },
  {
   "cell_type": "markdown",
   "id": "fb44dc47",
   "metadata": {
    "papermill": {
     "duration": 0.035473,
     "end_time": "2023-01-18T19:14:22.866349",
     "exception": false,
     "start_time": "2023-01-18T19:14:22.830876",
     "status": "completed"
    },
    "tags": []
   },
   "source": [
    "DecisionTreeClassifier"
   ]
  },
  {
   "cell_type": "code",
   "execution_count": null,
   "id": "dcb97522",
   "metadata": {
    "papermill": {
     "duration": 2.499618,
     "end_time": "2023-01-18T19:14:25.401870",
     "exception": false,
     "start_time": "2023-01-18T19:14:22.902252",
     "status": "completed"
    },
    "tags": []
   },
   "outputs": [],
   "source": [
    "params = {\n",
    "    'max_depth': np.linspace(5, 50, 10, dtype=int),\n",
    "    'min_samples_split': np.linspace(5, 50, 10, dtype=int),\n",
    "    'min_samples_leaf': np.linspace(5, 500, 10, dtype=int), # it or below\n",
    "    # 'model__min_weight_fraction_leaf': np.linspace(0.001, 0.1, 5),\n",
    "    'max_leaf_nodes': np.linspace(5, 100, 10, dtype=int),\n",
    "    'max_features': np.linspace(5, 31, 10, dtype=int),\n",
    "}\n",
    "search_dt = RandomizedSearchCV(DecisionTreeClassifier(random_state=conf.random), n_iter=100, param_distributions=params, scoring=\"roc_auc\", n_jobs=-1, random_state=conf.random)\n",
    "search_dt.fit(tr_clf.fit_transform(x_train), y_train)\n",
    "print(search_dt.best_params_)\n",
    "print()\n",
    "cross_val_auc(\"DecisionTreeClassifier searched\", search_dt.best_estimator_)"
   ]
  },
  {
   "cell_type": "markdown",
   "id": "42ba040a",
   "metadata": {
    "papermill": {
     "duration": 0.037118,
     "end_time": "2023-01-18T19:14:25.476133",
     "exception": false,
     "start_time": "2023-01-18T19:14:25.439015",
     "status": "completed"
    },
    "tags": []
   },
   "source": [
    "DecisionTreeRegressor"
   ]
  },
  {
   "cell_type": "code",
   "execution_count": null,
   "id": "0c651179",
   "metadata": {
    "papermill": {
     "duration": 2.715707,
     "end_time": "2023-01-18T19:14:28.229239",
     "exception": false,
     "start_time": "2023-01-18T19:14:25.513532",
     "status": "completed"
    },
    "tags": []
   },
   "outputs": [],
   "source": [
    "search_dtr = RandomizedSearchCV(DecisionTreeRegressor(random_state=conf.random), n_iter=100, param_distributions=params, scoring=\"roc_auc\", n_jobs=-1, random_state=conf.random)\n",
    "search_dtr.fit(tr_reg.fit_transform(x_train), y_train)\n",
    "print(search_dtr.best_params_)\n",
    "print()\n",
    "cross_val_auc(\"DecisionTreeRegressor searched\", search_dtr.best_estimator_, regressor=True)"
   ]
  },
  {
   "cell_type": "markdown",
   "id": "8ddcc300",
   "metadata": {
    "papermill": {
     "duration": 0.055156,
     "end_time": "2023-01-18T19:14:28.340217",
     "exception": false,
     "start_time": "2023-01-18T19:14:28.285061",
     "status": "completed"
    },
    "tags": []
   },
   "source": [
    "RandomForestClassifier"
   ]
  },
  {
   "cell_type": "code",
   "execution_count": null,
   "id": "4c49f4bf",
   "metadata": {
    "papermill": {
     "duration": 38.754292,
     "end_time": "2023-01-18T19:15:07.132816",
     "exception": false,
     "start_time": "2023-01-18T19:14:28.378524",
     "status": "completed"
    },
    "tags": []
   },
   "outputs": [],
   "source": [
    "search_r = RandomizedSearchCV(RandomForestClassifier(random_state=conf.random), n_iter=50, param_distributions=params, scoring=\"roc_auc\", n_jobs=-1, random_state=conf.random)\n",
    "search_r.fit(tr_clf.fit_transform(x_train), y_train)\n",
    "print(search_r.best_params_)\n",
    "print()\n",
    "cross_val_auc(\"RandomForestClassifier searched\", search_r.best_estimator_)"
   ]
  },
  {
   "cell_type": "markdown",
   "id": "50d11390",
   "metadata": {
    "papermill": {
     "duration": 0.038108,
     "end_time": "2023-01-18T19:15:07.207783",
     "exception": false,
     "start_time": "2023-01-18T19:15:07.169675",
     "status": "completed"
    },
    "tags": []
   },
   "source": [
    "RandomForestRegressor"
   ]
  },
  {
   "cell_type": "code",
   "execution_count": null,
   "id": "5d68e5b7",
   "metadata": {
    "papermill": {
     "duration": 30.311413,
     "end_time": "2023-01-18T19:15:37.556103",
     "exception": false,
     "start_time": "2023-01-18T19:15:07.244690",
     "status": "completed"
    },
    "tags": []
   },
   "outputs": [],
   "source": [
    "search_rr = RandomizedSearchCV(RandomForestRegressor(random_state=conf.random), n_iter=50, param_distributions=params, scoring=\"roc_auc\", n_jobs=-1, random_state=conf.random)\n",
    "search_rr.fit(tr_reg.fit_transform(x_train), y_train)\n",
    "print(search_rr.best_params_)\n",
    "print()\n",
    "cross_val_auc(\"RandomForestRegressor searched\", search_rr.best_estimator_, regressor=True)"
   ]
  },
  {
   "cell_type": "markdown",
   "id": "9234cac4",
   "metadata": {
    "papermill": {
     "duration": 0.038431,
     "end_time": "2023-01-18T19:15:37.631786",
     "exception": false,
     "start_time": "2023-01-18T19:15:37.593355",
     "status": "completed"
    },
    "tags": []
   },
   "source": [
    "ExtraTreesClassifier"
   ]
  },
  {
   "cell_type": "code",
   "execution_count": null,
   "id": "052b7651",
   "metadata": {
    "papermill": {
     "duration": 30.077504,
     "end_time": "2023-01-18T19:16:07.746376",
     "exception": false,
     "start_time": "2023-01-18T19:15:37.668872",
     "status": "completed"
    },
    "tags": []
   },
   "outputs": [],
   "source": [
    "search_et = RandomizedSearchCV(ExtraTreesClassifier(random_state=conf.random), n_iter=50, param_distributions=params, scoring=\"roc_auc\", n_jobs=-1, random_state=conf.random)\n",
    "search_et.fit(tr_clf.fit_transform(x_train), y_train)\n",
    "print(search_et.best_params_)\n",
    "print()\n",
    "cross_val_auc(\"ExtraTreesClassifier searched\", search_et.best_estimator_)"
   ]
  },
  {
   "cell_type": "markdown",
   "id": "2cf22198",
   "metadata": {
    "papermill": {
     "duration": 0.048027,
     "end_time": "2023-01-18T19:16:07.832758",
     "exception": false,
     "start_time": "2023-01-18T19:16:07.784731",
     "status": "completed"
    },
    "tags": []
   },
   "source": [
    "ExtraTreesRegressor"
   ]
  },
  {
   "cell_type": "code",
   "execution_count": null,
   "id": "9459d8d4",
   "metadata": {
    "papermill": {
     "duration": 24.429127,
     "end_time": "2023-01-18T19:16:32.304058",
     "exception": false,
     "start_time": "2023-01-18T19:16:07.874931",
     "status": "completed"
    },
    "tags": []
   },
   "outputs": [],
   "source": [
    "search_etr = RandomizedSearchCV(ExtraTreesRegressor(random_state=conf.random), n_iter=50, param_distributions=params, scoring=\"roc_auc\", n_jobs=-1, random_state=conf.random)\n",
    "search_etr.fit(tr_reg.fit_transform(x_train), y_train)\n",
    "print(search_etr.best_params_)\n",
    "print()\n",
    "cross_val_auc(\"ExtraTreesRegressor searched\", search_etr.best_estimator_, regressor=True)"
   ]
  },
  {
   "cell_type": "markdown",
   "id": "22b251c8",
   "metadata": {
    "papermill": {
     "duration": 0.037065,
     "end_time": "2023-01-18T19:16:32.378099",
     "exception": false,
     "start_time": "2023-01-18T19:16:32.341034",
     "status": "completed"
    },
    "tags": []
   },
   "source": [
    "XGB"
   ]
  },
  {
   "cell_type": "code",
   "execution_count": null,
   "id": "404c5795",
   "metadata": {
    "papermill": {
     "duration": 90.379559,
     "end_time": "2023-01-18T19:18:02.794723",
     "exception": false,
     "start_time": "2023-01-18T19:16:32.415164",
     "status": "completed"
    },
    "tags": []
   },
   "outputs": [],
   "source": [
    "params = {\n",
    "    'learning_rate': np.linspace(0.001, 0.2, 10),\n",
    "    'max_depth': np.linspace(3, 50, 10, dtype=int),\n",
    "    'colsample_bytree': np.linspace(0.01, 0.99, 10),\n",
    "    'min_child_weight': np.linspace(1, 100, 10, dtype=int),\n",
    "    'gamma': np.linspace(0.01, 0.99, 10),\n",
    "    'subsample': np.linspace(0.01, 0.99, 10)\n",
    "}\n",
    "search_x = RandomizedSearchCV(XGBClassifier(random_state=conf.random), n_iter=50, param_distributions=params, scoring=\"roc_auc\", n_jobs=-1, random_state=conf.random)\n",
    "search_x.fit(tr_clf.fit_transform(x_train), y_train)\n",
    "print(search_x.best_params_)\n",
    "print()\n",
    "cross_val_auc(\"XGBClassifier searched\", search_x.best_estimator_)"
   ]
  },
  {
   "cell_type": "code",
   "execution_count": null,
   "id": "49e8593b",
   "metadata": {
    "papermill": {
     "duration": 138.919087,
     "end_time": "2023-01-18T19:20:21.751764",
     "exception": false,
     "start_time": "2023-01-18T19:18:02.832677",
     "status": "completed"
    },
    "tags": []
   },
   "outputs": [],
   "source": [
    "search_xr = RandomizedSearchCV(XGBRegressor(random_state=conf.random), n_iter=50, param_distributions=params, scoring=\"roc_auc\", n_jobs=-1, random_state=conf.random)\n",
    "search_xr.fit(tr_reg.fit_transform(x_train), y_train)\n",
    "print(search_xr.best_params_)\n",
    "print()\n",
    "cross_val_auc(\"XGBRegressor searched\", search_xr.best_estimator_, regressor=True)"
   ]
  },
  {
   "cell_type": "markdown",
   "id": "356b9e97",
   "metadata": {
    "papermill": {
     "duration": 0.036536,
     "end_time": "2023-01-18T19:20:21.827595",
     "exception": false,
     "start_time": "2023-01-18T19:20:21.791059",
     "status": "completed"
    },
    "tags": []
   },
   "source": [
    "CatBoost"
   ]
  },
  {
   "cell_type": "code",
   "execution_count": null,
   "id": "f6c36d76",
   "metadata": {
    "papermill": {
     "duration": 348.949594,
     "end_time": "2023-01-18T19:26:10.814015",
     "exception": false,
     "start_time": "2023-01-18T19:20:21.864421",
     "status": "completed"
    },
    "tags": []
   },
   "outputs": [],
   "source": [
    "params = {\n",
    "    'learning_rate': np.linspace(0.001, 0.2, 10),\n",
    "    'l2_leaf_reg': np.linspace(0.001, 10, 10),\n",
    "    'max_depth': np.linspace(1, 5, 10, dtype=int),\n",
    "    'min_data_in_leaf': np.linspace(1, 250, 10, dtype=int),\n",
    "    \"colsample_bylevel\": np.linspace(0.001, 0.99, 10)\n",
    "}\n",
    "search_cb = RandomizedSearchCV(CatBoostClassifier(random_state=conf.random, verbose=False), n_iter=50, param_distributions=params, scoring=\"roc_auc\", n_jobs=-1, random_state=conf.random)\n",
    "search_cb.fit(tr_clf.fit_transform(x_train), y_train)\n",
    "print(search_cb.best_params_)\n",
    "print()\n",
    "cross_val_auc(\"CatBoostClassifier searched\", search_cb.best_estimator_)"
   ]
  },
  {
   "cell_type": "code",
   "execution_count": null,
   "id": "36d0345f",
   "metadata": {
    "papermill": {
     "duration": 225.997039,
     "end_time": "2023-01-18T19:29:56.848800",
     "exception": false,
     "start_time": "2023-01-18T19:26:10.851761",
     "status": "completed"
    },
    "tags": []
   },
   "outputs": [],
   "source": [
    "search_cbr = RandomizedSearchCV(CatBoostRegressor(random_state=conf.random, verbose=False), n_iter=50, param_distributions=params, scoring=\"roc_auc\", n_jobs=-1, random_state=conf.random)\n",
    "search_cbr.fit(tr_reg.fit_transform(x_train), y_train)\n",
    "print(search_cbr.best_params_)\n",
    "print()\n",
    "cross_val_auc(\"CatBoostRegressor searched\", search_cbr.best_estimator_, regressor=True)"
   ]
  },
  {
   "cell_type": "markdown",
   "id": "3a0c3fe5",
   "metadata": {
    "papermill": {
     "duration": 0.036845,
     "end_time": "2023-01-18T19:29:56.923228",
     "exception": false,
     "start_time": "2023-01-18T19:29:56.886383",
     "status": "completed"
    },
    "tags": []
   },
   "source": [
    "LGBM. It produce a lot of warnings so I commented it. Warning appear even in LogisticRegressionCV cell. Auc score ~0.833"
   ]
  },
  {
   "cell_type": "code",
   "execution_count": null,
   "id": "cacbbe2a",
   "metadata": {
    "_kg_hide-output": true,
    "papermill": {
     "duration": 0.051101,
     "end_time": "2023-01-18T19:29:57.012363",
     "exception": false,
     "start_time": "2023-01-18T19:29:56.961262",
     "status": "completed"
    },
    "tags": []
   },
   "outputs": [],
   "source": [
    "params = {\n",
    "#     'num_rounds': np.linspace(100, 500, 10, dtype=int),\n",
    "    'learning_rate': np.linspace(0.001, 0.2, 10),\n",
    "    'num_leaves': np.linspace(10, 500, 10, dtype=int),\n",
    "    'max_depth': np.linspace(1, 50, 10, dtype=int),\n",
    "    'min_data_in_leaf': np.linspace(1, 250, 10, dtype=int),\n",
    "    'lambda_l1': np.linspace(0.001, 0.99, 10),\n",
    "    'lambda_l2': np.linspace(0.001, 0.99, 10),\n",
    "    'bagging_fraction': np.linspace(0.001, 0.99, 10),\n",
    "    'feature_fraction': np.linspace(0.001, 0.99, 10),\n",
    "    'min_gain_to_split': np.linspace(1, 10, 10),\n",
    "}\n",
    "# search_l = RandomizedSearchCV(LGBMClassifier(random_state=conf.random, verbose=0), n_iter=20, param_distributions=params, scoring=\"roc_auc\", n_jobs=-1, random_state=conf.random)\n",
    "# search_l.fit(tr_clf.fit_transform(x_train), y_train)\n",
    "# print(search_l.best_params_)\n",
    "# print()"
   ]
  },
  {
   "cell_type": "code",
   "execution_count": null,
   "id": "f073406f",
   "metadata": {
    "_kg_hide-output": true,
    "papermill": {
     "duration": 0.045538,
     "end_time": "2023-01-18T19:29:57.095180",
     "exception": false,
     "start_time": "2023-01-18T19:29:57.049642",
     "status": "completed"
    },
    "tags": []
   },
   "outputs": [],
   "source": [
    "# cross_val_auc(\"LGBMClassifier searched\", search_l.best_estimator_)"
   ]
  },
  {
   "cell_type": "code",
   "execution_count": null,
   "id": "e7b74539",
   "metadata": {
    "_kg_hide-output": true,
    "papermill": {
     "duration": 0.122067,
     "end_time": "2023-01-18T19:29:57.254234",
     "exception": false,
     "start_time": "2023-01-18T19:29:57.132167",
     "status": "completed"
    },
    "tags": []
   },
   "outputs": [],
   "source": [
    "# search_lr = RandomizedSearchCV(LGBMRegressor(random_state=conf.random, verbose=0), n_iter=20, param_distributions=params, scoring=\"roc_auc\", n_jobs=-1, random_state=conf.random)\n",
    "# search_lr.fit(tr_reg.fit_transform(x_train), y_train)\n",
    "# print(search_lr.best_params_)\n",
    "# print()"
   ]
  },
  {
   "cell_type": "code",
   "execution_count": null,
   "id": "194a671f",
   "metadata": {
    "_kg_hide-output": true,
    "papermill": {
     "duration": 0.046918,
     "end_time": "2023-01-18T19:29:57.338324",
     "exception": false,
     "start_time": "2023-01-18T19:29:57.291406",
     "status": "completed"
    },
    "tags": []
   },
   "outputs": [],
   "source": [
    "# cross_val_auc(\"LGBMRegressor searched\", search_lr.best_estimator_, regressor=True)"
   ]
  },
  {
   "cell_type": "markdown",
   "id": "a5f33353",
   "metadata": {
    "papermill": {
     "duration": 0.037352,
     "end_time": "2023-01-18T19:29:57.413582",
     "exception": false,
     "start_time": "2023-01-18T19:29:57.376230",
     "status": "completed"
    },
    "tags": []
   },
   "source": [
    "# Models stats after RandomizedSearchCV"
   ]
  },
  {
   "cell_type": "code",
   "execution_count": null,
   "id": "e10c693b",
   "metadata": {
    "_kg_hide-input": true,
    "papermill": {
     "duration": 0.773471,
     "end_time": "2023-01-18T19:29:58.224116",
     "exception": false,
     "start_time": "2023-01-18T19:29:57.450645",
     "status": "completed"
    },
    "tags": []
   },
   "outputs": [],
   "source": [
    "logs_df = pd.DataFrame(logs.items(), columns=['Model', 'Auc']).sort_values(by=\"Auc\", ascending=False)\n",
    "logs_df.Auc = logs_df.Auc.apply(lambda x: int(x*10000)/10000.0)\n",
    "logs_df[\"Label\"] = logs_df.apply(lambda x: x[\"Model\"] + \" \" + str(x[\"Auc\"]), axis=1)\n",
    "\n",
    "plt.figure(figsize=(14,12))\n",
    "ax = sns.barplot(data=logs_df, x=\"Auc\", y=\"Model\",)\n",
    "ax.bar_label(ax.containers[0])\n",
    "ax.set(xlim=(0, 1))"
   ]
  },
  {
   "cell_type": "markdown",
   "id": "185b6d7c",
   "metadata": {
    "papermill": {
     "duration": 0.038454,
     "end_time": "2023-01-18T19:29:58.301764",
     "exception": false,
     "start_time": "2023-01-18T19:29:58.263310",
     "status": "completed"
    },
    "tags": []
   },
   "source": [
    "# Ensemble"
   ]
  },
  {
   "cell_type": "code",
   "execution_count": null,
   "id": "fd28678e",
   "metadata": {
    "_kg_hide-input": true,
    "papermill": {
     "duration": 0.056586,
     "end_time": "2023-01-18T19:29:58.397422",
     "exception": false,
     "start_time": "2023-01-18T19:29:58.340836",
     "status": "completed"
    },
    "tags": []
   },
   "outputs": [],
   "source": [
    "def train_model(m, x, y, te, reg=False, verbose=True, eval=False, spec=False, use_reg=False):\n",
    "    preds = []\n",
    "    scores = []\n",
    "    kf = StratifiedKFold(n_splits=12, shuffle=True, random_state=conf.random)\n",
    "    if reg or use_reg:\n",
    "        tr_reg.fit(x)\n",
    "        te = tr_reg.transform(te)\n",
    "    else:\n",
    "        tr_clf.fit(x)\n",
    "        te = tr_clf.transform(te) \n",
    "    for train_index, val_index in kf.split(x, y):\n",
    "        x_t, x_val = x.iloc[train_index], x.iloc[val_index]\n",
    "        y_t, y_val = y[train_index], y[val_index]\n",
    "        \n",
    "        if reg or use_reg:\n",
    "            x_t = tr_reg.transform(x_t)\n",
    "            x_val = tr_reg.transform(x_val)\n",
    "        else:\n",
    "            x_t = tr_clf.transform(x_t)\n",
    "            x_val = tr_clf.transform(x_val)  \n",
    "\n",
    "        if verbose:\n",
    "            m.fit(x_t, y_t)\n",
    "        else:\n",
    "            if eval:\n",
    "                m.fit(x_t, y_t, eval_set=(x_val, y_val), verbose=False)\n",
    "            else:\n",
    "                m.fit(x_t, y_t, verbose=False)\n",
    "\n",
    "        test_preds = m.predict(te) if reg else m.predict_proba(te)[:, 1]        \n",
    "        val_preds = m.predict(x_val) if reg else m.predict_proba(x_val)[:, 1]\n",
    "        \n",
    "        if spec:\n",
    "            test_preds = special.expit(test_preds)\n",
    "            val_preds = special.expit(val_preds)\n",
    "        \n",
    "        preds.append(test_preds)\n",
    "        scores.append(roc_auc_score(y_val, val_preds))\n",
    "    print(f'mean score: {np.mean(scores):.4f}')\n",
    "    preds = np.array(preds).mean(0)\n",
    "    pd.DataFrame(preds).hist(bins=25)\n",
    "    return preds"
   ]
  },
  {
   "cell_type": "code",
   "execution_count": null,
   "id": "72c3b524",
   "metadata": {
    "papermill": {
     "duration": 18.702549,
     "end_time": "2023-01-18T19:30:17.138177",
     "exception": false,
     "start_time": "2023-01-18T19:29:58.435628",
     "status": "completed"
    },
    "tags": []
   },
   "outputs": [],
   "source": [
    "cb_preds = train_model(search_cb.best_estimator_, x_train, y_train.to_numpy(), test_full)"
   ]
  },
  {
   "cell_type": "code",
   "execution_count": null,
   "id": "b1486b68",
   "metadata": {
    "papermill": {
     "duration": 11.401364,
     "end_time": "2023-01-18T19:30:28.578254",
     "exception": false,
     "start_time": "2023-01-18T19:30:17.176890",
     "status": "completed"
    },
    "tags": []
   },
   "outputs": [],
   "source": [
    "cbr_preds = train_model(search_cbr.best_estimator_, x_train, y_train.to_numpy(), test_full, reg=True)"
   ]
  },
  {
   "cell_type": "code",
   "execution_count": null,
   "id": "3330abbd",
   "metadata": {
    "papermill": {
     "duration": 2.455959,
     "end_time": "2023-01-18T19:30:31.073789",
     "exception": false,
     "start_time": "2023-01-18T19:30:28.617830",
     "status": "completed"
    },
    "tags": []
   },
   "outputs": [],
   "source": [
    "ridge = RidgeCV(alphas=np.linspace(0.0001, 100, 1000))\n",
    "ridge.fit(tr_reg.fit_transform(x_train), y_train)\n",
    "print(ridge.alpha_)\n",
    "                \n",
    "r_preds = train_model(Ridge(alpha=ridge.alpha_), x_train, y_train.to_numpy(), test_full, reg=True, spec=True)"
   ]
  },
  {
   "cell_type": "code",
   "execution_count": null,
   "id": "09bb1495",
   "metadata": {
    "papermill": {
     "duration": 50.542951,
     "end_time": "2023-01-18T19:31:21.656035",
     "exception": false,
     "start_time": "2023-01-18T19:30:31.113084",
     "status": "completed"
    },
    "tags": []
   },
   "outputs": [],
   "source": [
    "lr = LogisticRegressionCV(Cs=1000, max_iter=1000)\n",
    "lr.fit(tr_reg.fit_transform(x_train), y_train)\n",
    "print(lr.C_)\n",
    "lr_preds = train_model(LogisticRegression(C=lr.C_[0]), x_train, y_train.to_numpy(), test_full, use_reg=True)"
   ]
  },
  {
   "cell_type": "code",
   "execution_count": null,
   "id": "a9c0f295",
   "metadata": {
    "papermill": {
     "duration": 0.049921,
     "end_time": "2023-01-18T19:31:21.746778",
     "exception": false,
     "start_time": "2023-01-18T19:31:21.696857",
     "status": "completed"
    },
    "tags": []
   },
   "outputs": [],
   "source": [
    "test_preds = cb_preds * 0.25 + cbr_preds * 0.25 + r_preds * 0.25 + lr_preds * 0.25\n",
    "test_preds"
   ]
  },
  {
   "cell_type": "code",
   "execution_count": null,
   "id": "cd34db7f",
   "metadata": {
    "papermill": {
     "duration": 0.289446,
     "end_time": "2023-01-18T19:31:22.076416",
     "exception": false,
     "start_time": "2023-01-18T19:31:21.786970",
     "status": "completed"
    },
    "tags": []
   },
   "outputs": [],
   "source": [
    "pd.DataFrame(test_preds).hist(bins=25, figsize=(16,9))"
   ]
  },
  {
   "cell_type": "markdown",
   "id": "b172518e",
   "metadata": {
    "papermill": {
     "duration": 0.039836,
     "end_time": "2023-01-18T19:31:22.156649",
     "exception": false,
     "start_time": "2023-01-18T19:31:22.116813",
     "status": "completed"
    },
    "tags": []
   },
   "source": [
    "# Submission"
   ]
  },
  {
   "cell_type": "code",
   "execution_count": null,
   "id": "5dea470b",
   "metadata": {
    "papermill": {
     "duration": 0.069058,
     "end_time": "2023-01-18T19:31:22.265847",
     "exception": false,
     "start_time": "2023-01-18T19:31:22.196789",
     "status": "completed"
    },
    "tags": []
   },
   "outputs": [],
   "source": [
    "ss = pd.read_csv(\"/kaggle/input/playground-series-s3e3/sample_submission.csv\", index_col=conf.index)\n",
    "ss[conf.target] = test_preds\n",
    "ss.to_csv(\"submission.csv\")\n",
    "ss.head()"
   ]
  }
 ],
 "metadata": {
  "kernelspec": {
   "display_name": "Python 3 (ipykernel)",
   "language": "python",
   "name": "python3"
  },
  "language_info": {
   "codemirror_mode": {
    "name": "ipython",
    "version": 3
   },
   "file_extension": ".py",
   "mimetype": "text/x-python",
   "name": "python",
   "nbconvert_exporter": "python",
   "pygments_lexer": "ipython3",
   "version": "3.11.5"
  },
  "papermill": {
   "default_parameters": {},
   "duration": 1325.203491,
   "end_time": "2023-01-18T19:31:24.929333",
   "environment_variables": {},
   "exception": null,
   "input_path": "__notebook__.ipynb",
   "output_path": "__notebook__.ipynb",
   "parameters": {},
   "start_time": "2023-01-18T19:09:19.725842",
   "version": "2.3.4"
  }
 },
 "nbformat": 4,
 "nbformat_minor": 5
}
